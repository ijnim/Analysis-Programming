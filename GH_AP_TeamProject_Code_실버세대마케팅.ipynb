{
 "cells": [
  {
   "cell_type": "code",
   "execution_count": 1,
   "metadata": {},
   "outputs": [],
   "source": [
    "import pandas as pd \n",
    "import numpy as np\n",
    "import seaborn as sns\n",
    "import matplotlib\n",
    "import plotly.express as px\n",
    "import matplotlib.pyplot as plt\n",
    "import matplotlib.font_manager as fm\n",
    "matplotlib.rcParams['axes.unicode_minus'] = False\n",
    "plt.rc('font', family=fm.FontProperties(fname=\"c:/Windows/Fonts/malgun.ttf\").get_name())"
   ]
  },
  {
   "cell_type": "markdown",
   "metadata": {},
   "source": [
    "<font color=gold>↓ [PPT page.01]</font>"
   ]
  },
  {
   "cell_type": "markdown",
   "metadata": {},
   "source": [
    "**실버 고객의 중요성 및 마케팅 방향 설정**  \n",
    "\n",
    "- 서울연구원, 2014년 2월 호, <新실버세대를 위한 젊은 비즈니스>, https://www.si.re.kr/node/48461\n",
    "\n",
    "“세시봉 콘서트”, “조용필 콘서트”, “이문세 콘서트”에 참석한 중년관객들, ‘7번방의 선물’, ‘광해, 왕이 된 남자’ 등 영화분야에 나타난 50대의 막강해진 티켓파워, “꽃보다 할배”로 인한 노년층의 여행수요 등 과거 소비의 소외층으로 간주되었던 중·고령층들이 점차 소비의 주류층으로 이동하고 있다.\n",
    "\n",
    "특히 주목할 것은 우리나라 고령화시대를 주도하게 될 베이비부머세대가 2012년 현재 우리나라 총인구 4명 중 1명을 차지할 만큼 큰 규모를 이루고 있을 뿐만 아니라 `자산이나 소득규모에 있어서도 현재의 고령층과는 구별되는 소비여력`을 가지고 있어 새로운 비즈니스의 수요층으로 부상하고 있다는 것이다. 최근 자료에 의하면 노후준비에 있어서도 베이비부머세대는 현재 고령층에 비해 상대적으로 양호한 노후준비를 하고 있는 것으로 조사되었다.  \n",
    "\n",
    "베이비부머의 신(新)비즈니스 모델들은 소비층의 `다양한 건강상태, 소득수준 및 소비욕구를 반영`한 큰 그림이며, 실제적으로 실버산업 소비자는 다양한 소비욕구를 가진 다양한 계층의 집합체임을 잊어서는 안 된다."
   ]
  },
  {
   "cell_type": "markdown",
   "metadata": {},
   "source": [
    "## <목차>\n",
    "- [1. 데이터 전처리](#1.-데이터-전처리)  \n",
    "- [2. Food](#2.-Food)\n",
    "    - [2-1. Clustering (K-Means)](#2-1.-Clustering-(K-Means))  \n",
    "    - [2-2. 건강식품](#2-2.-건강식품)\n",
    "- [3. Nofood](#3.-Nofood)\n",
    "    - [3-1. RFM 분석](#3-1.-RFM-분석)\n",
    "    - [3-2. 의류잡화](#3-2.-의류잡화)\n",
    "        - [3-2-1. 주얼리](#3-2-1.-주얼리)\n",
    "        - [3-2-2. 캐주얼](#3-2-2.-캐주얼)\n",
    "    - [3-3. 가전제품](#3-3.-가전제품)\n",
    "        - [3-3-1. 결혼 시기와 연관](#3-3-1.-결혼-시기와-연관)\n",
    "        - [3-3-2. 가을 & 주방가전](#3-3-2.-가을-&-주방가전)"
   ]
  },
  {
   "cell_type": "markdown",
   "metadata": {},
   "source": [
    "# 1. 데이터 전처리\n",
    "- `Demo.csv`, `구매내역정보.csv` 합친 `df`\n",
    "- 분석에 필요한 열 추가 및 변경\n",
    "    - 구매일자 : 구매월, 구매요일, 구매계절, 평일주말\n",
    "    - 성별 : 남,여로 변경\n",
    "    - 연령 : 연령대\n",
    "    - 구매시간 : 영업시간 9시~22시로 설정하여 그 외 시간 변경\n",
    "- 상품대분류명 기준 : 식품 `food` / 비식품 `nofood` 로 분류"
   ]
  },
  {
   "cell_type": "markdown",
   "metadata": {},
   "source": [
    "**Demo.csv, 구매내역정보.csv 합친 df**"
   ]
  },
  {
   "cell_type": "code",
   "execution_count": 2,
   "metadata": {},
   "outputs": [
    {
     "data": {
      "text/html": [
       "<div>\n",
       "<style scoped>\n",
       "    .dataframe tbody tr th:only-of-type {\n",
       "        vertical-align: middle;\n",
       "    }\n",
       "\n",
       "    .dataframe tbody tr th {\n",
       "        vertical-align: top;\n",
       "    }\n",
       "\n",
       "    .dataframe thead th {\n",
       "        text-align: right;\n",
       "    }\n",
       "</style>\n",
       "<table border=\"1\" class=\"dataframe\">\n",
       "  <thead>\n",
       "    <tr style=\"text-align: right;\">\n",
       "      <th></th>\n",
       "      <th>ID</th>\n",
       "      <th>성별</th>\n",
       "      <th>연령</th>\n",
       "      <th>거주지역</th>\n",
       "      <th>상품대분류명</th>\n",
       "      <th>상품중분류명</th>\n",
       "      <th>구매지역</th>\n",
       "      <th>구매일자</th>\n",
       "      <th>구매시간</th>\n",
       "      <th>구매수량</th>\n",
       "      <th>구매금액</th>\n",
       "      <th>취소여부</th>\n",
       "    </tr>\n",
       "  </thead>\n",
       "  <tbody>\n",
       "    <tr>\n",
       "      <th>0</th>\n",
       "      <td>478207946</td>\n",
       "      <td>1</td>\n",
       "      <td>84</td>\n",
       "      <td>서울 성동구</td>\n",
       "      <td>가전제품</td>\n",
       "      <td>컴퓨터주변기기</td>\n",
       "      <td>서울 동대문구</td>\n",
       "      <td>20141219</td>\n",
       "      <td>13</td>\n",
       "      <td>1</td>\n",
       "      <td>59000</td>\n",
       "      <td>0</td>\n",
       "    </tr>\n",
       "    <tr>\n",
       "      <th>1</th>\n",
       "      <td>478207946</td>\n",
       "      <td>1</td>\n",
       "      <td>84</td>\n",
       "      <td>서울 성동구</td>\n",
       "      <td>가전제품</td>\n",
       "      <td>TV/AV</td>\n",
       "      <td>서울 동대문구</td>\n",
       "      <td>20141031</td>\n",
       "      <td>14</td>\n",
       "      <td>1</td>\n",
       "      <td>106000</td>\n",
       "      <td>0</td>\n",
       "    </tr>\n",
       "    <tr>\n",
       "      <th>2</th>\n",
       "      <td>478207946</td>\n",
       "      <td>1</td>\n",
       "      <td>84</td>\n",
       "      <td>서울 성동구</td>\n",
       "      <td>가전제품</td>\n",
       "      <td>주방가전</td>\n",
       "      <td>서울 중구</td>\n",
       "      <td>20140815</td>\n",
       "      <td>15</td>\n",
       "      <td>1</td>\n",
       "      <td>37000</td>\n",
       "      <td>0</td>\n",
       "    </tr>\n",
       "    <tr>\n",
       "      <th>3</th>\n",
       "      <td>478207946</td>\n",
       "      <td>1</td>\n",
       "      <td>84</td>\n",
       "      <td>서울 성동구</td>\n",
       "      <td>의류잡화</td>\n",
       "      <td>여성용의류-이너웨어</td>\n",
       "      <td>서울 동대문구</td>\n",
       "      <td>20140322</td>\n",
       "      <td>17</td>\n",
       "      <td>1</td>\n",
       "      <td>118000</td>\n",
       "      <td>0</td>\n",
       "    </tr>\n",
       "    <tr>\n",
       "      <th>4</th>\n",
       "      <td>479806984</td>\n",
       "      <td>1</td>\n",
       "      <td>84</td>\n",
       "      <td>서울 서초구</td>\n",
       "      <td>생활잡화</td>\n",
       "      <td>화장품</td>\n",
       "      <td>서울 중구</td>\n",
       "      <td>20140704</td>\n",
       "      <td>12</td>\n",
       "      <td>1</td>\n",
       "      <td>22000</td>\n",
       "      <td>0</td>\n",
       "    </tr>\n",
       "  </tbody>\n",
       "</table>\n",
       "</div>"
      ],
      "text/plain": [
       "          ID  성별  연령    거주지역 상품대분류명      상품중분류명     구매지역      구매일자  구매시간  \\\n",
       "0  478207946   1  84  서울 성동구   가전제품     컴퓨터주변기기  서울 동대문구  20141219    13   \n",
       "1  478207946   1  84  서울 성동구   가전제품       TV/AV  서울 동대문구  20141031    14   \n",
       "2  478207946   1  84  서울 성동구   가전제품        주방가전    서울 중구  20140815    15   \n",
       "3  478207946   1  84  서울 성동구   의류잡화  여성용의류-이너웨어  서울 동대문구  20140322    17   \n",
       "4  479806984   1  84  서울 서초구   생활잡화         화장품    서울 중구  20140704    12   \n",
       "\n",
       "   구매수량    구매금액  취소여부  \n",
       "0     1   59000     0  \n",
       "1     1  106000     0  \n",
       "2     1   37000     0  \n",
       "3     1  118000     0  \n",
       "4     1   22000     0  "
      ]
     },
     "execution_count": 2,
     "metadata": {},
     "output_type": "execute_result"
    }
   ],
   "source": [
    "cs = pd.read_csv('Demo.csv', encoding='cp949', engine='python')\n",
    "tr = pd.read_csv('구매내역정보.csv', encoding='cp949', engine='python')\n",
    "df = pd.merge(cs, tr, on='ID')\n",
    "df.head()"
   ]
  },
  {
   "cell_type": "markdown",
   "metadata": {},
   "source": [
    "<font color=gold>↓ [PPT page.02]</font>"
   ]
  },
  {
   "cell_type": "markdown",
   "metadata": {},
   "source": [
    "**columns 추가 및 변경**"
   ]
  },
  {
   "cell_type": "markdown",
   "metadata": {},
   "source": [
    "1. 구매일자 : 구매월, 구매요일, 구매계절, 평일주말"
   ]
  },
  {
   "cell_type": "code",
   "execution_count": 3,
   "metadata": {},
   "outputs": [],
   "source": [
    "df.구매일자 = df.구매일자.astype(str).astype('datetime64')\n",
    "df['구매월'] = df.구매일자.dt.month\n",
    "df['구매요일'] = df.구매일자.apply(lambda x: ['월', '화', '수', '목', '금', '토', '일'][x.weekday()] +'요일')"
   ]
  },
  {
   "cell_type": "code",
   "execution_count": 4,
   "metadata": {},
   "outputs": [],
   "source": [
    "def season(x):\n",
    "    if 3 <= x <= 5:\n",
    "        return '봄'\n",
    "    elif 6 <= x <= 8:\n",
    "        return '여름'\n",
    "    elif 9 <= x <= 11:\n",
    "        return '가을'\n",
    "    else:\n",
    "        return '겨울'\n",
    "    \n",
    "df['구매계절'] = df.구매월.apply(season)"
   ]
  },
  {
   "cell_type": "code",
   "execution_count": 5,
   "metadata": {},
   "outputs": [],
   "source": [
    "df['평일주말'] =  df.구매요일.apply(lambda x : '주말' if x == '토요일' or x == '일요일' else '평일')"
   ]
  },
  {
   "cell_type": "markdown",
   "metadata": {},
   "source": [
    "2. 성별 : 남, 여로 변경"
   ]
  },
  {
   "cell_type": "code",
   "execution_count": 6,
   "metadata": {},
   "outputs": [],
   "source": [
    "df['성별'] = df.성별.apply(lambda x: '남' if x == 1 else '여')"
   ]
  },
  {
   "cell_type": "markdown",
   "metadata": {},
   "source": [
    "3. 연령 : 연령대"
   ]
  },
  {
   "cell_type": "code",
   "execution_count": 7,
   "metadata": {},
   "outputs": [],
   "source": [
    "df['연령대'] = df.연령.astype('str').str[0]+'0대'"
   ]
  },
  {
   "cell_type": "markdown",
   "metadata": {},
   "source": [
    "<font color=gold>↓ [PPT page.03]</font>"
   ]
  },
  {
   "cell_type": "markdown",
   "metadata": {},
   "source": [
    "4. 구매시간 데이터 변경  \n",
    "- 오프라인 데이터이므로 영업시간 9시~22시로 설정\n",
    "- 그 외 1시부터 3시는 닫는 시간인 22시(밤)으로, 4시부터 8시는 여는 시간(아침)으로 설정"
   ]
  },
  {
   "cell_type": "code",
   "execution_count": 8,
   "metadata": {},
   "outputs": [
    {
     "data": {
      "image/png": "[encoded data removed]",
      "text/plain": [
       "<Figure size 864x576 with 1 Axes>"
      ]
     },
     "metadata": {
      "needs_background": "light"
     },
     "output_type": "display_data"
    }
   ],
   "source": [
    "df_target = df.query('1<=구매시간<=7')\n",
    "df_target0 = df.query('구매시간>=8')\n",
    "\n",
    "fig, ax = plt.subplots(figsize=(12,8))\n",
    "\n",
    "plt.scatter(df_target.구매시간, df_target.구매수량, color='red')\n",
    "plt.scatter(df_target0.구매시간, df_target0.구매수량, color='black')\n",
    "\n",
    "plt.xlabel('구매시간', size=13)\n",
    "plt.ylabel('구매수량', size=13)\n",
    "\n",
    "label = sorted(df.구매시간.value_counts().index)\n",
    "plt.xticks(label)\n",
    "\n",
    "plt.grid(True)\n",
    "plt.title('변경 전 구매시간-구매수량 산점도', size=15)\n",
    "plt.show()"
   ]
  },
  {
   "cell_type": "code",
   "execution_count": 9,
   "metadata": {},
   "outputs": [],
   "source": [
    "df['구매시간'] = df.구매시간.apply(lambda x: 9 if 4<=x<=7 else 22 if 1<=x<=3 else x)"
   ]
  },
  {
   "cell_type": "code",
   "execution_count": 10,
   "metadata": {
    "scrolled": false
   },
   "outputs": [
    {
     "data": {
      "image/png": "[encoded data removed]",
      "text/plain": [
       "<Figure size 864x576 with 1 Axes>"
      ]
     },
     "metadata": {
      "needs_background": "light"
     },
     "output_type": "display_data"
    }
   ],
   "source": [
    "df_target = df.query('1<=구매시간<=7')\n",
    "df_target0 = df.query('구매시간>=8')\n",
    "\n",
    "fig, ax = plt.subplots(figsize=(12,8))\n",
    "\n",
    "plt.scatter(df_target.구매시간, df_target.구매수량, color='red')\n",
    "plt.scatter(df_target0.구매시간, df_target0.구매수량, color='black')\n",
    "\n",
    "plt.xlabel('구매시간', size=13)\n",
    "plt.ylabel('구매수량', size=13)\n",
    "\n",
    "label = sorted(df.구매시간.value_counts().index)\n",
    "plt.xticks(label)\n",
    "\n",
    "plt.grid(True)\n",
    "plt.title('변경 후 구매시간-구매수량 산점도', size=15)\n",
    "plt.show()"
   ]
  },
  {
   "cell_type": "markdown",
   "metadata": {},
   "source": [
    "<font color=gold>↓ [PPT page.04]</font>"
   ]
  },
  {
   "cell_type": "markdown",
   "metadata": {},
   "source": [
    "**상품대분류명 기준 : 식품 food / 비식품 nofood 로 분류**\n",
    "- 식품 데이터가 비율이 높기 때문에 이후 분석의 용이함을 위해 따로 분류하여 저장"
   ]
  },
  {
   "cell_type": "code",
   "execution_count": 11,
   "metadata": {},
   "outputs": [
    {
     "data": {
      "image/png": "[encoded data removed]",
      "text/plain": [
       "<Figure size 1368x432 with 3 Axes>"
      ]
     },
     "metadata": {},
     "output_type": "display_data"
    }
   ],
   "source": [
    "fig, axes = plt.subplots(1,3, figsize=(19,6))\n",
    "colors_items = matplotlib.cm.get_cmap('Set2')(np.arange(len(df)))\n",
    "\n",
    "df.상품대분류명.value_counts().plot.pie(ax=axes[0], autopct='%.1f%%', colors=colors_items,\n",
    "                 explode=(0.1,0,0,0,0,0.01,0.01), startangle=180, counterclock=False)\n",
    "axes[0].set_title('전체 고객의 상품대분류 별 구매빈도', size=15)\n",
    "axes[0].set_ylabel('')\n",
    "\n",
    "\n",
    "df[df['성별'] == '남'].상품대분류명.value_counts().plot.pie(ax=axes[1], autopct='%.1f%%', colors=colors_items,\n",
    "                 explode=(0.1,0,0,0,0,0.01,0.01), startangle=180,counterclock=False)\n",
    "axes[1].set_title('남성 고객의 상품대분류 별 구매빈도', size=15)\n",
    "axes[1].set_ylabel('')\n",
    "\n",
    "df[df['성별'] == '여'].상품대분류명.value_counts().plot.pie(ax=axes[2], autopct='%.1f%%', colors=colors_items,\n",
    "                 explode=(0.1,0,0,0,0,0.01,0.01), startangle=180,counterclock=False)\n",
    "axes[2].set_title('여성 고객의 상품대분류 별 구매빈도', size=15)\n",
    "axes[2].set_ylabel('')\n",
    "\n",
    "plt.legend(bbox_to_anchor=(0.4,0), prop={'size': 12}, ncol=7)\n",
    "plt.show()"
   ]
  },
  {
   "cell_type": "code",
   "execution_count": 12,
   "metadata": {},
   "outputs": [],
   "source": [
    "food = df.query('상품대분류명 ==\"식품\"')\n",
    "nofood = df.query('상품대분류명 !=\"식품\"')"
   ]
  },
  {
   "cell_type": "markdown",
   "metadata": {},
   "source": [
    "# 2. Food"
   ]
  },
  {
   "cell_type": "markdown",
   "metadata": {},
   "source": [
    "<font color=gold>↓ [PPT page.05]</font>"
   ]
  },
  {
   "cell_type": "markdown",
   "metadata": {},
   "source": [
    "## 2-1. Clustering (K-Means)"
   ]
  },
  {
   "cell_type": "code",
   "execution_count": 13,
   "metadata": {},
   "outputs": [
    {
     "data": {
      "text/html": [
       "<div>\n",
       "<style scoped>\n",
       "    .dataframe tbody tr th:only-of-type {\n",
       "        vertical-align: middle;\n",
       "    }\n",
       "\n",
       "    .dataframe tbody tr th {\n",
       "        vertical-align: top;\n",
       "    }\n",
       "\n",
       "    .dataframe thead th {\n",
       "        text-align: right;\n",
       "    }\n",
       "</style>\n",
       "<table border=\"1\" class=\"dataframe\">\n",
       "  <thead>\n",
       "    <tr style=\"text-align: right;\">\n",
       "      <th></th>\n",
       "      <th>ID</th>\n",
       "      <th>총구매액</th>\n",
       "      <th>구매건수</th>\n",
       "      <th>평균구매액</th>\n",
       "      <th>최대구매액</th>\n",
       "    </tr>\n",
       "  </thead>\n",
       "  <tbody>\n",
       "    <tr>\n",
       "      <th>0</th>\n",
       "      <td>741463</td>\n",
       "      <td>196000</td>\n",
       "      <td>2</td>\n",
       "      <td>98000</td>\n",
       "      <td>98000</td>\n",
       "    </tr>\n",
       "    <tr>\n",
       "      <th>1</th>\n",
       "      <td>909249</td>\n",
       "      <td>46000</td>\n",
       "      <td>2</td>\n",
       "      <td>23000</td>\n",
       "      <td>41000</td>\n",
       "    </tr>\n",
       "    <tr>\n",
       "      <th>2</th>\n",
       "      <td>1065068</td>\n",
       "      <td>87000</td>\n",
       "      <td>4</td>\n",
       "      <td>21750</td>\n",
       "      <td>38000</td>\n",
       "    </tr>\n",
       "    <tr>\n",
       "      <th>3</th>\n",
       "      <td>1387032</td>\n",
       "      <td>75000</td>\n",
       "      <td>4</td>\n",
       "      <td>18750</td>\n",
       "      <td>38000</td>\n",
       "    </tr>\n",
       "    <tr>\n",
       "      <th>4</th>\n",
       "      <td>1529116</td>\n",
       "      <td>66000</td>\n",
       "      <td>5</td>\n",
       "      <td>13200</td>\n",
       "      <td>23000</td>\n",
       "    </tr>\n",
       "  </tbody>\n",
       "</table>\n",
       "</div>"
      ],
      "text/plain": [
       "        ID    총구매액  구매건수  평균구매액  최대구매액\n",
       "0   741463  196000     2  98000  98000\n",
       "1   909249   46000     2  23000  41000\n",
       "2  1065068   87000     4  21750  38000\n",
       "3  1387032   75000     4  18750  38000\n",
       "4  1529116   66000     5  13200  23000"
      ]
     },
     "execution_count": 13,
     "metadata": {},
     "output_type": "execute_result"
    }
   ],
   "source": [
    "ff = food.groupby('ID')['구매금액'].agg([\n",
    "    ('총구매액',np.sum), \n",
    "    ('구매건수', np.size), \n",
    "    ('평균구매액', lambda x: np.round(np.mean(x))),\n",
    "    ('최대구매액', np.max)]).reset_index()\n",
    "ff.head()"
   ]
  },
  {
   "cell_type": "code",
   "execution_count": 14,
   "metadata": {},
   "outputs": [],
   "source": [
    "def drop_column_level(data):\n",
    "    c_list = []\n",
    "    for _, c in data.columns:\n",
    "        if not c:\n",
    "            c_list.append(_)\n",
    "        else:\n",
    "            c_list.append(c)\n",
    "    return c_list"
   ]
  },
  {
   "cell_type": "code",
   "execution_count": 15,
   "metadata": {},
   "outputs": [
    {
     "data": {
      "text/html": [
       "<div>\n",
       "<style scoped>\n",
       "    .dataframe tbody tr th:only-of-type {\n",
       "        vertical-align: middle;\n",
       "    }\n",
       "\n",
       "    .dataframe tbody tr th {\n",
       "        vertical-align: top;\n",
       "    }\n",
       "\n",
       "    .dataframe thead th {\n",
       "        text-align: right;\n",
       "    }\n",
       "</style>\n",
       "<table border=\"1\" class=\"dataframe\">\n",
       "  <thead>\n",
       "    <tr style=\"text-align: right;\">\n",
       "      <th></th>\n",
       "      <th>ID</th>\n",
       "      <th>총구매액</th>\n",
       "      <th>구매건수</th>\n",
       "      <th>평균구매액</th>\n",
       "      <th>최대구매액</th>\n",
       "      <th>구매상품수(중)</th>\n",
       "    </tr>\n",
       "  </thead>\n",
       "  <tbody>\n",
       "    <tr>\n",
       "      <th>0</th>\n",
       "      <td>741463</td>\n",
       "      <td>196000</td>\n",
       "      <td>2</td>\n",
       "      <td>98000</td>\n",
       "      <td>98000</td>\n",
       "      <td>1</td>\n",
       "    </tr>\n",
       "    <tr>\n",
       "      <th>1</th>\n",
       "      <td>909249</td>\n",
       "      <td>46000</td>\n",
       "      <td>2</td>\n",
       "      <td>23000</td>\n",
       "      <td>41000</td>\n",
       "      <td>1</td>\n",
       "    </tr>\n",
       "    <tr>\n",
       "      <th>2</th>\n",
       "      <td>1065068</td>\n",
       "      <td>87000</td>\n",
       "      <td>4</td>\n",
       "      <td>21750</td>\n",
       "      <td>38000</td>\n",
       "      <td>3</td>\n",
       "    </tr>\n",
       "    <tr>\n",
       "      <th>3</th>\n",
       "      <td>1387032</td>\n",
       "      <td>75000</td>\n",
       "      <td>4</td>\n",
       "      <td>18750</td>\n",
       "      <td>38000</td>\n",
       "      <td>1</td>\n",
       "    </tr>\n",
       "    <tr>\n",
       "      <th>4</th>\n",
       "      <td>1529116</td>\n",
       "      <td>66000</td>\n",
       "      <td>5</td>\n",
       "      <td>13200</td>\n",
       "      <td>23000</td>\n",
       "      <td>1</td>\n",
       "    </tr>\n",
       "  </tbody>\n",
       "</table>\n",
       "</div>"
      ],
      "text/plain": [
       "        ID    총구매액  구매건수  평균구매액  최대구매액  구매상품수(중)\n",
       "0   741463  196000     2  98000  98000         1\n",
       "1   909249   46000     2  23000  41000         1\n",
       "2  1065068   87000     4  21750  38000         3\n",
       "3  1387032   75000     4  18750  38000         1\n",
       "4  1529116   66000     5  13200  23000         1"
      ]
     },
     "execution_count": 15,
     "metadata": {},
     "output_type": "execute_result"
    }
   ],
   "source": [
    "f = food.groupby('ID')['상품중분류명'].agg([\n",
    "    ('구매상품수(중)', lambda x: x.nunique())]).reset_index()\n",
    "ff = ff.merge(f, how='left')\n",
    "ff.head()"
   ]
  },
  {
   "cell_type": "code",
   "execution_count": 16,
   "metadata": {},
   "outputs": [
    {
     "data": {
      "text/html": [
       "<div>\n",
       "<style scoped>\n",
       "    .dataframe tbody tr th:only-of-type {\n",
       "        vertical-align: middle;\n",
       "    }\n",
       "\n",
       "    .dataframe tbody tr th {\n",
       "        vertical-align: top;\n",
       "    }\n",
       "\n",
       "    .dataframe thead th {\n",
       "        text-align: right;\n",
       "    }\n",
       "</style>\n",
       "<table border=\"1\" class=\"dataframe\">\n",
       "  <thead>\n",
       "    <tr style=\"text-align: right;\">\n",
       "      <th></th>\n",
       "      <th>ID</th>\n",
       "      <th>총구매액</th>\n",
       "      <th>구매건수</th>\n",
       "      <th>평균구매액</th>\n",
       "      <th>최대구매액</th>\n",
       "      <th>구매상품수(중)</th>\n",
       "      <th>내점일수</th>\n",
       "      <th>구매주기</th>\n",
       "      <th>주말방문율</th>\n",
       "    </tr>\n",
       "  </thead>\n",
       "  <tbody>\n",
       "    <tr>\n",
       "      <th>0</th>\n",
       "      <td>741463</td>\n",
       "      <td>196000</td>\n",
       "      <td>2</td>\n",
       "      <td>98000</td>\n",
       "      <td>98000</td>\n",
       "      <td>1</td>\n",
       "      <td>2</td>\n",
       "      <td>19</td>\n",
       "      <td>0.0</td>\n",
       "    </tr>\n",
       "    <tr>\n",
       "      <th>1</th>\n",
       "      <td>909249</td>\n",
       "      <td>46000</td>\n",
       "      <td>2</td>\n",
       "      <td>23000</td>\n",
       "      <td>41000</td>\n",
       "      <td>1</td>\n",
       "      <td>2</td>\n",
       "      <td>123</td>\n",
       "      <td>0.5</td>\n",
       "    </tr>\n",
       "    <tr>\n",
       "      <th>2</th>\n",
       "      <td>1065068</td>\n",
       "      <td>87000</td>\n",
       "      <td>4</td>\n",
       "      <td>21750</td>\n",
       "      <td>38000</td>\n",
       "      <td>3</td>\n",
       "      <td>2</td>\n",
       "      <td>36</td>\n",
       "      <td>0.0</td>\n",
       "    </tr>\n",
       "    <tr>\n",
       "      <th>3</th>\n",
       "      <td>1387032</td>\n",
       "      <td>75000</td>\n",
       "      <td>4</td>\n",
       "      <td>18750</td>\n",
       "      <td>38000</td>\n",
       "      <td>1</td>\n",
       "      <td>3</td>\n",
       "      <td>93</td>\n",
       "      <td>0.0</td>\n",
       "    </tr>\n",
       "    <tr>\n",
       "      <th>4</th>\n",
       "      <td>1529116</td>\n",
       "      <td>66000</td>\n",
       "      <td>5</td>\n",
       "      <td>13200</td>\n",
       "      <td>23000</td>\n",
       "      <td>1</td>\n",
       "      <td>3</td>\n",
       "      <td>20</td>\n",
       "      <td>0.0</td>\n",
       "    </tr>\n",
       "  </tbody>\n",
       "</table>\n",
       "</div>"
      ],
      "text/plain": [
       "        ID    총구매액  구매건수  평균구매액  최대구매액  구매상품수(중)  내점일수  구매주기  주말방문율\n",
       "0   741463  196000     2  98000  98000         1     2    19    0.0\n",
       "1   909249   46000     2  23000  41000         1     2   123    0.5\n",
       "2  1065068   87000     4  21750  38000         3     2    36    0.0\n",
       "3  1387032   75000     4  18750  38000         1     3    93    0.0\n",
       "4  1529116   66000     5  13200  23000         1     3    20    0.0"
      ]
     },
     "execution_count": 16,
     "metadata": {},
     "output_type": "execute_result"
    }
   ],
   "source": [
    "f = food.groupby('ID')['구매일자'].agg([\n",
    "    ('내점일수',lambda x: x.nunique()),\n",
    "    ('구매주기', lambda x: int(((x.max() - x.min()).days) / x.nunique())),\n",
    "    ('주말방문율', lambda x: (x.dt.weekday > 4).mean().round(2))]).reset_index()\n",
    "ff = ff.merge(f, how='left')\n",
    "ff.head()"
   ]
  },
  {
   "cell_type": "code",
   "execution_count": 17,
   "metadata": {},
   "outputs": [
    {
     "data": {
      "text/html": [
       "<div>\n",
       "<style scoped>\n",
       "    .dataframe tbody tr th:only-of-type {\n",
       "        vertical-align: middle;\n",
       "    }\n",
       "\n",
       "    .dataframe tbody tr th {\n",
       "        vertical-align: top;\n",
       "    }\n",
       "\n",
       "    .dataframe thead th {\n",
       "        text-align: right;\n",
       "    }\n",
       "</style>\n",
       "<table border=\"1\" class=\"dataframe\">\n",
       "  <thead>\n",
       "    <tr style=\"text-align: right;\">\n",
       "      <th></th>\n",
       "      <th>ID</th>\n",
       "      <th>총구매액</th>\n",
       "      <th>구매건수</th>\n",
       "      <th>평균구매액</th>\n",
       "      <th>최대구매액</th>\n",
       "      <th>구매상품수(중)</th>\n",
       "      <th>내점일수</th>\n",
       "      <th>구매주기</th>\n",
       "      <th>주말방문율</th>\n",
       "      <th>거래당구매액</th>\n",
       "      <th>거래당구매건수</th>\n",
       "    </tr>\n",
       "  </thead>\n",
       "  <tbody>\n",
       "    <tr>\n",
       "      <th>0</th>\n",
       "      <td>741463</td>\n",
       "      <td>196000</td>\n",
       "      <td>2</td>\n",
       "      <td>98000</td>\n",
       "      <td>98000</td>\n",
       "      <td>1</td>\n",
       "      <td>2</td>\n",
       "      <td>19</td>\n",
       "      <td>0.0</td>\n",
       "      <td>98000.0</td>\n",
       "      <td>1.0</td>\n",
       "    </tr>\n",
       "    <tr>\n",
       "      <th>1</th>\n",
       "      <td>909249</td>\n",
       "      <td>46000</td>\n",
       "      <td>2</td>\n",
       "      <td>23000</td>\n",
       "      <td>41000</td>\n",
       "      <td>1</td>\n",
       "      <td>2</td>\n",
       "      <td>123</td>\n",
       "      <td>0.5</td>\n",
       "      <td>23000.0</td>\n",
       "      <td>1.0</td>\n",
       "    </tr>\n",
       "    <tr>\n",
       "      <th>2</th>\n",
       "      <td>1065068</td>\n",
       "      <td>87000</td>\n",
       "      <td>4</td>\n",
       "      <td>21750</td>\n",
       "      <td>38000</td>\n",
       "      <td>3</td>\n",
       "      <td>2</td>\n",
       "      <td>36</td>\n",
       "      <td>0.0</td>\n",
       "      <td>21750.0</td>\n",
       "      <td>1.0</td>\n",
       "    </tr>\n",
       "    <tr>\n",
       "      <th>3</th>\n",
       "      <td>1387032</td>\n",
       "      <td>75000</td>\n",
       "      <td>4</td>\n",
       "      <td>18750</td>\n",
       "      <td>38000</td>\n",
       "      <td>1</td>\n",
       "      <td>3</td>\n",
       "      <td>93</td>\n",
       "      <td>0.0</td>\n",
       "      <td>18750.0</td>\n",
       "      <td>1.0</td>\n",
       "    </tr>\n",
       "    <tr>\n",
       "      <th>4</th>\n",
       "      <td>1529116</td>\n",
       "      <td>66000</td>\n",
       "      <td>5</td>\n",
       "      <td>13200</td>\n",
       "      <td>23000</td>\n",
       "      <td>1</td>\n",
       "      <td>3</td>\n",
       "      <td>20</td>\n",
       "      <td>0.0</td>\n",
       "      <td>13200.0</td>\n",
       "      <td>1.0</td>\n",
       "    </tr>\n",
       "  </tbody>\n",
       "</table>\n",
       "</div>"
      ],
      "text/plain": [
       "        ID    총구매액  구매건수  평균구매액  최대구매액  구매상품수(중)  내점일수  구매주기  주말방문율   거래당구매액  \\\n",
       "0   741463  196000     2  98000  98000         1     2    19    0.0  98000.0   \n",
       "1   909249   46000     2  23000  41000         1     2   123    0.5  23000.0   \n",
       "2  1065068   87000     4  21750  38000         3     2    36    0.0  21750.0   \n",
       "3  1387032   75000     4  18750  38000         1     3    93    0.0  18750.0   \n",
       "4  1529116   66000     5  13200  23000         1     3    20    0.0  13200.0   \n",
       "\n",
       "   거래당구매건수  \n",
       "0      1.0  \n",
       "1      1.0  \n",
       "2      1.0  \n",
       "3      1.0  \n",
       "4      1.0  "
      ]
     },
     "execution_count": 17,
     "metadata": {},
     "output_type": "execute_result"
    }
   ],
   "source": [
    "visit_cnt = food.groupby('ID')['성별'].agg(lambda x: x.count())\n",
    "per_amount = (food.groupby('ID')['구매금액'].sum() / visit_cnt).round(0).reset_index().rename(columns={0:'거래당구매액'})\n",
    "per_count = (food.groupby('ID')['구매수량'].count() / visit_cnt).round(1).reset_index().rename(columns={0:'거래당구매건수'})\n",
    "f = pd.merge(per_amount, per_count, on='ID')\n",
    "ff = ff.merge(f, how='left')\n",
    "ff.head()"
   ]
  },
  {
   "cell_type": "code",
   "execution_count": 18,
   "metadata": {},
   "outputs": [
    {
     "data": {
      "text/html": [
       "<div>\n",
       "<style scoped>\n",
       "    .dataframe tbody tr th:only-of-type {\n",
       "        vertical-align: middle;\n",
       "    }\n",
       "\n",
       "    .dataframe tbody tr th {\n",
       "        vertical-align: top;\n",
       "    }\n",
       "\n",
       "    .dataframe thead th {\n",
       "        text-align: right;\n",
       "    }\n",
       "</style>\n",
       "<table border=\"1\" class=\"dataframe\">\n",
       "  <thead>\n",
       "    <tr style=\"text-align: right;\">\n",
       "      <th></th>\n",
       "      <th>ID</th>\n",
       "      <th>총구매액</th>\n",
       "      <th>구매건수</th>\n",
       "      <th>평균구매액</th>\n",
       "      <th>최대구매액</th>\n",
       "      <th>구매상품수(중)</th>\n",
       "      <th>내점일수</th>\n",
       "      <th>구매주기</th>\n",
       "      <th>주말방문율</th>\n",
       "      <th>거래당구매액</th>\n",
       "      <th>거래당구매건수</th>\n",
       "      <th>구매추세</th>\n",
       "    </tr>\n",
       "  </thead>\n",
       "  <tbody>\n",
       "    <tr>\n",
       "      <th>0</th>\n",
       "      <td>741463</td>\n",
       "      <td>196000</td>\n",
       "      <td>2</td>\n",
       "      <td>98000</td>\n",
       "      <td>98000</td>\n",
       "      <td>1</td>\n",
       "      <td>2</td>\n",
       "      <td>19</td>\n",
       "      <td>0.0</td>\n",
       "      <td>98000.0</td>\n",
       "      <td>1.0</td>\n",
       "      <td>0.00</td>\n",
       "    </tr>\n",
       "    <tr>\n",
       "      <th>1</th>\n",
       "      <td>909249</td>\n",
       "      <td>46000</td>\n",
       "      <td>2</td>\n",
       "      <td>23000</td>\n",
       "      <td>41000</td>\n",
       "      <td>1</td>\n",
       "      <td>2</td>\n",
       "      <td>123</td>\n",
       "      <td>0.5</td>\n",
       "      <td>23000.0</td>\n",
       "      <td>1.0</td>\n",
       "      <td>0.03</td>\n",
       "    </tr>\n",
       "    <tr>\n",
       "      <th>2</th>\n",
       "      <td>1065068</td>\n",
       "      <td>87000</td>\n",
       "      <td>4</td>\n",
       "      <td>21750</td>\n",
       "      <td>38000</td>\n",
       "      <td>3</td>\n",
       "      <td>2</td>\n",
       "      <td>36</td>\n",
       "      <td>0.0</td>\n",
       "      <td>21750.0</td>\n",
       "      <td>1.0</td>\n",
       "      <td>0.08</td>\n",
       "    </tr>\n",
       "    <tr>\n",
       "      <th>3</th>\n",
       "      <td>1387032</td>\n",
       "      <td>75000</td>\n",
       "      <td>4</td>\n",
       "      <td>18750</td>\n",
       "      <td>38000</td>\n",
       "      <td>1</td>\n",
       "      <td>3</td>\n",
       "      <td>93</td>\n",
       "      <td>0.0</td>\n",
       "      <td>18750.0</td>\n",
       "      <td>1.0</td>\n",
       "      <td>-0.03</td>\n",
       "    </tr>\n",
       "    <tr>\n",
       "      <th>4</th>\n",
       "      <td>1529116</td>\n",
       "      <td>66000</td>\n",
       "      <td>5</td>\n",
       "      <td>13200</td>\n",
       "      <td>23000</td>\n",
       "      <td>1</td>\n",
       "      <td>3</td>\n",
       "      <td>20</td>\n",
       "      <td>0.0</td>\n",
       "      <td>13200.0</td>\n",
       "      <td>1.0</td>\n",
       "      <td>-0.03</td>\n",
       "    </tr>\n",
       "  </tbody>\n",
       "</table>\n",
       "</div>"
      ],
      "text/plain": [
       "        ID    총구매액  구매건수  평균구매액  최대구매액  구매상품수(중)  내점일수  구매주기  주말방문율   거래당구매액  \\\n",
       "0   741463  196000     2  98000  98000         1     2    19    0.0  98000.0   \n",
       "1   909249   46000     2  23000  41000         1     2   123    0.5  23000.0   \n",
       "2  1065068   87000     4  21750  38000         3     2    36    0.0  21750.0   \n",
       "3  1387032   75000     4  18750  38000         1     3    93    0.0  18750.0   \n",
       "4  1529116   66000     5  13200  23000         1     3    20    0.0  13200.0   \n",
       "\n",
       "   거래당구매건수  구매추세  \n",
       "0      1.0  0.00  \n",
       "1      1.0  0.03  \n",
       "2      1.0  0.08  \n",
       "3      1.0 -0.03  \n",
       "4      1.0 -0.03  "
      ]
     },
     "execution_count": 18,
     "metadata": {},
     "output_type": "execute_result"
    }
   ],
   "source": [
    "week_to = food.구매일자.max()\n",
    "week_trans = []\n",
    "for i in range(10):\n",
    "    week_from = week_to + pd.DateOffset(weeks=-1)\n",
    "    week_trans.append(food.query('@week_from < 구매일자 <= @week_to')\n",
    "                      .groupby('ID')['성별']\n",
    "                      .agg([(f'w{10-i}', 'count')])\n",
    "                      .reset_index())\n",
    "    week_to = week_from\n",
    "\n",
    "f = pd.DataFrame({'ID': food.ID.unique()})\n",
    "for w in week_trans[::-1]:\n",
    "    f = pd.merge(f, w, how='left')\n",
    "f = f.fillna(0)\n",
    "\n",
    "f['구매추세'] = f.apply(lambda x: np.polyfit(range(10), x[1:], 1)[0].round(2), axis=1)\n",
    "ff = ff.merge(f.iloc[:,[0,-1]], how='left')\n",
    "ff.head()"
   ]
  },
  {
   "cell_type": "code",
   "execution_count": 19,
   "metadata": {},
   "outputs": [
    {
     "data": {
      "text/html": [
       "<div>\n",
       "<style scoped>\n",
       "    .dataframe tbody tr th:only-of-type {\n",
       "        vertical-align: middle;\n",
       "    }\n",
       "\n",
       "    .dataframe tbody tr th {\n",
       "        vertical-align: top;\n",
       "    }\n",
       "\n",
       "    .dataframe thead th {\n",
       "        text-align: right;\n",
       "    }\n",
       "</style>\n",
       "<table border=\"1\" class=\"dataframe\">\n",
       "  <thead>\n",
       "    <tr style=\"text-align: right;\">\n",
       "      <th></th>\n",
       "      <th>ID</th>\n",
       "      <th>총구매액</th>\n",
       "      <th>구매건수</th>\n",
       "      <th>평균구매액</th>\n",
       "      <th>최대구매액</th>\n",
       "      <th>구매상품수(중)</th>\n",
       "      <th>내점일수</th>\n",
       "      <th>구매주기</th>\n",
       "      <th>주말방문율</th>\n",
       "      <th>거래당구매액</th>\n",
       "      <th>거래당구매건수</th>\n",
       "      <th>구매추세</th>\n",
       "      <th>주구매시간</th>\n",
       "    </tr>\n",
       "  </thead>\n",
       "  <tbody>\n",
       "    <tr>\n",
       "      <th>0</th>\n",
       "      <td>741463</td>\n",
       "      <td>196000</td>\n",
       "      <td>2</td>\n",
       "      <td>98000</td>\n",
       "      <td>98000</td>\n",
       "      <td>1</td>\n",
       "      <td>2</td>\n",
       "      <td>19</td>\n",
       "      <td>0.0</td>\n",
       "      <td>98000.0</td>\n",
       "      <td>1.0</td>\n",
       "      <td>0.00</td>\n",
       "      <td>11</td>\n",
       "    </tr>\n",
       "    <tr>\n",
       "      <th>1</th>\n",
       "      <td>909249</td>\n",
       "      <td>46000</td>\n",
       "      <td>2</td>\n",
       "      <td>23000</td>\n",
       "      <td>41000</td>\n",
       "      <td>1</td>\n",
       "      <td>2</td>\n",
       "      <td>123</td>\n",
       "      <td>0.5</td>\n",
       "      <td>23000.0</td>\n",
       "      <td>1.0</td>\n",
       "      <td>0.03</td>\n",
       "      <td>12</td>\n",
       "    </tr>\n",
       "    <tr>\n",
       "      <th>2</th>\n",
       "      <td>1065068</td>\n",
       "      <td>87000</td>\n",
       "      <td>4</td>\n",
       "      <td>21750</td>\n",
       "      <td>38000</td>\n",
       "      <td>3</td>\n",
       "      <td>2</td>\n",
       "      <td>36</td>\n",
       "      <td>0.0</td>\n",
       "      <td>21750.0</td>\n",
       "      <td>1.0</td>\n",
       "      <td>0.08</td>\n",
       "      <td>20</td>\n",
       "    </tr>\n",
       "    <tr>\n",
       "      <th>3</th>\n",
       "      <td>1387032</td>\n",
       "      <td>75000</td>\n",
       "      <td>4</td>\n",
       "      <td>18750</td>\n",
       "      <td>38000</td>\n",
       "      <td>1</td>\n",
       "      <td>3</td>\n",
       "      <td>93</td>\n",
       "      <td>0.0</td>\n",
       "      <td>18750.0</td>\n",
       "      <td>1.0</td>\n",
       "      <td>-0.03</td>\n",
       "      <td>13</td>\n",
       "    </tr>\n",
       "    <tr>\n",
       "      <th>4</th>\n",
       "      <td>1529116</td>\n",
       "      <td>66000</td>\n",
       "      <td>5</td>\n",
       "      <td>13200</td>\n",
       "      <td>23000</td>\n",
       "      <td>1</td>\n",
       "      <td>3</td>\n",
       "      <td>20</td>\n",
       "      <td>0.0</td>\n",
       "      <td>13200.0</td>\n",
       "      <td>1.0</td>\n",
       "      <td>-0.03</td>\n",
       "      <td>12</td>\n",
       "    </tr>\n",
       "  </tbody>\n",
       "</table>\n",
       "</div>"
      ],
      "text/plain": [
       "        ID    총구매액  구매건수  평균구매액  최대구매액  구매상품수(중)  내점일수  구매주기  주말방문율   거래당구매액  \\\n",
       "0   741463  196000     2  98000  98000         1     2    19    0.0  98000.0   \n",
       "1   909249   46000     2  23000  41000         1     2   123    0.5  23000.0   \n",
       "2  1065068   87000     4  21750  38000         3     2    36    0.0  21750.0   \n",
       "3  1387032   75000     4  18750  38000         1     3    93    0.0  18750.0   \n",
       "4  1529116   66000     5  13200  23000         1     3    20    0.0  13200.0   \n",
       "\n",
       "   거래당구매건수  구매추세  주구매시간  \n",
       "0      1.0  0.00     11  \n",
       "1      1.0  0.03     12  \n",
       "2      1.0  0.08     20  \n",
       "3      1.0 -0.03     13  \n",
       "4      1.0 -0.03     12  "
      ]
     },
     "execution_count": 19,
     "metadata": {},
     "output_type": "execute_result"
    }
   ],
   "source": [
    "f = food.groupby('ID')['구매시간'].agg([\n",
    "    ('주구매시간', lambda x: x.value_counts().index[0])\n",
    "]).reset_index()\n",
    "ff = ff.merge(f, how='left')\n",
    "ff.head()"
   ]
  },
  {
   "cell_type": "code",
   "execution_count": 20,
   "metadata": {},
   "outputs": [
    {
     "name": "stderr",
     "output_type": "stream",
     "text": [
      "c:\\users\\dltnq\\anaconda3\\lib\\site-packages\\ipykernel_launcher.py:1: SettingWithCopyWarning: \n",
      "A value is trying to be set on a copy of a slice from a DataFrame.\n",
      "Try using .loc[row_indexer,col_indexer] = value instead\n",
      "\n",
      "See the caveats in the documentation: https://pandas.pydata.org/pandas-docs/stable/user_guide/indexing.html#returning-a-view-versus-a-copy\n",
      "  \"\"\"Entry point for launching an IPython kernel.\n"
     ]
    },
    {
     "data": {
      "text/plain": [
       "0.25     9600.294852\n",
       "0.50    13618.742260\n",
       "0.75    23728.742516\n",
       "Name: 판매단가, dtype: float64"
      ]
     },
     "execution_count": 20,
     "metadata": {},
     "output_type": "execute_result"
    }
   ],
   "source": [
    "food['판매단가'] = food['구매금액'] / food['구매수량']\n",
    "\n",
    "# 상품별 평균 판매단가에 대한 4분위수 계산 => 3Q 이상을 고가상품으로 설정\n",
    "price_4q = food.groupby('상품중분류명')['판매단가'].mean().quantile([.25,.5,.75])\n",
    "price_4q"
   ]
  },
  {
   "cell_type": "code",
   "execution_count": 21,
   "metadata": {},
   "outputs": [
    {
     "data": {
      "text/html": [
       "<div>\n",
       "<style scoped>\n",
       "    .dataframe tbody tr th:only-of-type {\n",
       "        vertical-align: middle;\n",
       "    }\n",
       "\n",
       "    .dataframe tbody tr th {\n",
       "        vertical-align: top;\n",
       "    }\n",
       "\n",
       "    .dataframe thead th {\n",
       "        text-align: right;\n",
       "    }\n",
       "</style>\n",
       "<table border=\"1\" class=\"dataframe\">\n",
       "  <thead>\n",
       "    <tr style=\"text-align: right;\">\n",
       "      <th></th>\n",
       "      <th>ID</th>\n",
       "      <th>총구매액</th>\n",
       "      <th>구매건수</th>\n",
       "      <th>평균구매액</th>\n",
       "      <th>최대구매액</th>\n",
       "      <th>구매상품수(중)</th>\n",
       "      <th>내점일수</th>\n",
       "      <th>구매주기</th>\n",
       "      <th>주말방문율</th>\n",
       "      <th>거래당구매액</th>\n",
       "      <th>거래당구매건수</th>\n",
       "      <th>구매추세</th>\n",
       "      <th>주구매시간</th>\n",
       "      <th>고가상품구매율</th>\n",
       "    </tr>\n",
       "  </thead>\n",
       "  <tbody>\n",
       "    <tr>\n",
       "      <th>0</th>\n",
       "      <td>741463</td>\n",
       "      <td>196000</td>\n",
       "      <td>2</td>\n",
       "      <td>98000</td>\n",
       "      <td>98000</td>\n",
       "      <td>1</td>\n",
       "      <td>2</td>\n",
       "      <td>19</td>\n",
       "      <td>0.0</td>\n",
       "      <td>98000.0</td>\n",
       "      <td>1.0</td>\n",
       "      <td>0.00</td>\n",
       "      <td>11</td>\n",
       "      <td>1.00</td>\n",
       "    </tr>\n",
       "    <tr>\n",
       "      <th>1</th>\n",
       "      <td>909249</td>\n",
       "      <td>46000</td>\n",
       "      <td>2</td>\n",
       "      <td>23000</td>\n",
       "      <td>41000</td>\n",
       "      <td>1</td>\n",
       "      <td>2</td>\n",
       "      <td>123</td>\n",
       "      <td>0.5</td>\n",
       "      <td>23000.0</td>\n",
       "      <td>1.0</td>\n",
       "      <td>0.03</td>\n",
       "      <td>12</td>\n",
       "      <td>0.50</td>\n",
       "    </tr>\n",
       "    <tr>\n",
       "      <th>2</th>\n",
       "      <td>1065068</td>\n",
       "      <td>87000</td>\n",
       "      <td>4</td>\n",
       "      <td>21750</td>\n",
       "      <td>38000</td>\n",
       "      <td>3</td>\n",
       "      <td>2</td>\n",
       "      <td>36</td>\n",
       "      <td>0.0</td>\n",
       "      <td>21750.0</td>\n",
       "      <td>1.0</td>\n",
       "      <td>0.08</td>\n",
       "      <td>20</td>\n",
       "      <td>0.50</td>\n",
       "    </tr>\n",
       "    <tr>\n",
       "      <th>3</th>\n",
       "      <td>1387032</td>\n",
       "      <td>75000</td>\n",
       "      <td>4</td>\n",
       "      <td>18750</td>\n",
       "      <td>38000</td>\n",
       "      <td>1</td>\n",
       "      <td>3</td>\n",
       "      <td>93</td>\n",
       "      <td>0.0</td>\n",
       "      <td>18750.0</td>\n",
       "      <td>1.0</td>\n",
       "      <td>-0.03</td>\n",
       "      <td>13</td>\n",
       "      <td>0.25</td>\n",
       "    </tr>\n",
       "    <tr>\n",
       "      <th>4</th>\n",
       "      <td>1529116</td>\n",
       "      <td>66000</td>\n",
       "      <td>5</td>\n",
       "      <td>13200</td>\n",
       "      <td>23000</td>\n",
       "      <td>1</td>\n",
       "      <td>3</td>\n",
       "      <td>20</td>\n",
       "      <td>0.0</td>\n",
       "      <td>13200.0</td>\n",
       "      <td>1.0</td>\n",
       "      <td>-0.03</td>\n",
       "      <td>12</td>\n",
       "      <td>0.00</td>\n",
       "    </tr>\n",
       "  </tbody>\n",
       "</table>\n",
       "</div>"
      ],
      "text/plain": [
       "        ID    총구매액  구매건수  평균구매액  최대구매액  구매상품수(중)  내점일수  구매주기  주말방문율   거래당구매액  \\\n",
       "0   741463  196000     2  98000  98000         1     2    19    0.0  98000.0   \n",
       "1   909249   46000     2  23000  41000         1     2   123    0.5  23000.0   \n",
       "2  1065068   87000     4  21750  38000         3     2    36    0.0  21750.0   \n",
       "3  1387032   75000     4  18750  38000         1     3    93    0.0  18750.0   \n",
       "4  1529116   66000     5  13200  23000         1     3    20    0.0  13200.0   \n",
       "\n",
       "   거래당구매건수  구매추세  주구매시간  고가상품구매율  \n",
       "0      1.0  0.00     11     1.00  \n",
       "1      1.0  0.03     12     0.50  \n",
       "2      1.0  0.08     20     0.50  \n",
       "3      1.0 -0.03     13     0.25  \n",
       "4      1.0 -0.03     12     0.00  "
      ]
     },
     "execution_count": 21,
     "metadata": {},
     "output_type": "execute_result"
    }
   ],
   "source": [
    "f = (food.groupby('ID')['판매단가']\n",
    "     .agg([('고가상품구매율', lambda x: (x > price_4q.iloc[2]).mean().round(2))])\n",
    "     .reset_index())\n",
    "ff = ff.merge(f, how='left')\n",
    "ff.head()"
   ]
  },
  {
   "cell_type": "code",
   "execution_count": 22,
   "metadata": {},
   "outputs": [
    {
     "data": {
      "image/png": "[encoded data removed]",
      "text/plain": [
       "<Figure size 720x576 with 2 Axes>"
      ]
     },
     "metadata": {
      "needs_background": "light"
     },
     "output_type": "display_data"
    }
   ],
   "source": [
    "plt.figure(figsize=(10,8))\n",
    "sns.heatmap(ff.iloc[:,1:].corr(), annot=True, cmap=\"coolwarm\", vmin = -1, vmax = 1)\n",
    "plt.show()"
   ]
  },
  {
   "cell_type": "code",
   "execution_count": 23,
   "metadata": {},
   "outputs": [
    {
     "data": {
      "image/png": "[encoded data removed]",
      "text/plain": [
       "<Figure size 360x360 with 1 Axes>"
      ]
     },
     "metadata": {
      "needs_background": "light"
     },
     "output_type": "display_data"
    }
   ],
   "source": [
    "sns.lmplot(x='구매건수', y='내점일수', data=ff, \n",
    "           line_kws={'color':'red'}, scatter_kws={'edgecolor':'black'})\n",
    "plt.show()"
   ]
  },
  {
   "cell_type": "code",
   "execution_count": 24,
   "metadata": {},
   "outputs": [
    {
     "data": {
      "text/html": [
       "<div>\n",
       "<style scoped>\n",
       "    .dataframe tbody tr th:only-of-type {\n",
       "        vertical-align: middle;\n",
       "    }\n",
       "\n",
       "    .dataframe tbody tr th {\n",
       "        vertical-align: top;\n",
       "    }\n",
       "\n",
       "    .dataframe thead th {\n",
       "        text-align: right;\n",
       "    }\n",
       "</style>\n",
       "<table border=\"1\" class=\"dataframe\">\n",
       "  <thead>\n",
       "    <tr style=\"text-align: right;\">\n",
       "      <th></th>\n",
       "      <th>총구매액</th>\n",
       "      <th>구매건수</th>\n",
       "      <th>평균구매액</th>\n",
       "      <th>최대구매액</th>\n",
       "      <th>구매상품수(중)</th>\n",
       "      <th>내점일수</th>\n",
       "      <th>구매주기</th>\n",
       "      <th>주말방문율</th>\n",
       "      <th>거래당구매액</th>\n",
       "      <th>거래당구매건수</th>\n",
       "      <th>구매추세</th>\n",
       "      <th>주구매시간</th>\n",
       "      <th>고가상품구매율</th>\n",
       "    </tr>\n",
       "  </thead>\n",
       "  <tbody>\n",
       "    <tr>\n",
       "      <th>0</th>\n",
       "      <td>2.483538</td>\n",
       "      <td>-0.591343</td>\n",
       "      <td>0.946082</td>\n",
       "      <td>0.946082</td>\n",
       "      <td>-0.591358</td>\n",
       "      <td>-0.591343</td>\n",
       "      <td>-0.591076</td>\n",
       "      <td>-0.591374</td>\n",
       "      <td>0.946082</td>\n",
       "      <td>-0.591358</td>\n",
       "      <td>-0.591374</td>\n",
       "      <td>-0.591201</td>\n",
       "      <td>-0.591358</td>\n",
       "    </tr>\n",
       "    <tr>\n",
       "      <th>1</th>\n",
       "      <td>2.096365</td>\n",
       "      <td>-0.600312</td>\n",
       "      <td>0.747968</td>\n",
       "      <td>1.803235</td>\n",
       "      <td>-0.600370</td>\n",
       "      <td>-0.600312</td>\n",
       "      <td>-0.593218</td>\n",
       "      <td>-0.600400</td>\n",
       "      <td>0.747968</td>\n",
       "      <td>-0.600370</td>\n",
       "      <td>-0.600427</td>\n",
       "      <td>-0.599726</td>\n",
       "      <td>-0.600400</td>\n",
       "    </tr>\n",
       "    <tr>\n",
       "      <th>2</th>\n",
       "      <td>2.908794</td>\n",
       "      <td>-0.509307</td>\n",
       "      <td>0.345100</td>\n",
       "      <td>0.983568</td>\n",
       "      <td>-0.509346</td>\n",
       "      <td>-0.509386</td>\n",
       "      <td>-0.508050</td>\n",
       "      <td>-0.509464</td>\n",
       "      <td>0.345100</td>\n",
       "      <td>-0.509425</td>\n",
       "      <td>-0.509461</td>\n",
       "      <td>-0.508679</td>\n",
       "      <td>-0.509445</td>\n",
       "    </tr>\n",
       "    <tr>\n",
       "      <th>3</th>\n",
       "      <td>2.829578</td>\n",
       "      <td>-0.516786</td>\n",
       "      <td>0.319671</td>\n",
       "      <td>1.178617</td>\n",
       "      <td>-0.516920</td>\n",
       "      <td>-0.516830</td>\n",
       "      <td>-0.512815</td>\n",
       "      <td>-0.516964</td>\n",
       "      <td>0.319671</td>\n",
       "      <td>-0.516920</td>\n",
       "      <td>-0.516966</td>\n",
       "      <td>-0.516384</td>\n",
       "      <td>-0.516953</td>\n",
       "    </tr>\n",
       "    <tr>\n",
       "      <th>4</th>\n",
       "      <td>3.050158</td>\n",
       "      <td>-0.473927</td>\n",
       "      <td>0.230677</td>\n",
       "      <td>0.753990</td>\n",
       "      <td>-0.474140</td>\n",
       "      <td>-0.474033</td>\n",
       "      <td>-0.473126</td>\n",
       "      <td>-0.474194</td>\n",
       "      <td>0.230677</td>\n",
       "      <td>-0.474140</td>\n",
       "      <td>-0.474195</td>\n",
       "      <td>-0.473553</td>\n",
       "      <td>-0.474194</td>\n",
       "    </tr>\n",
       "  </tbody>\n",
       "</table>\n",
       "</div>"
      ],
      "text/plain": [
       "       총구매액      구매건수     평균구매액     최대구매액  구매상품수(중)      내점일수      구매주기  \\\n",
       "0  2.483538 -0.591343  0.946082  0.946082 -0.591358 -0.591343 -0.591076   \n",
       "1  2.096365 -0.600312  0.747968  1.803235 -0.600370 -0.600312 -0.593218   \n",
       "2  2.908794 -0.509307  0.345100  0.983568 -0.509346 -0.509386 -0.508050   \n",
       "3  2.829578 -0.516786  0.319671  1.178617 -0.516920 -0.516830 -0.512815   \n",
       "4  3.050158 -0.473927  0.230677  0.753990 -0.474140 -0.474033 -0.473126   \n",
       "\n",
       "      주말방문율    거래당구매액   거래당구매건수      구매추세     주구매시간   고가상품구매율  \n",
       "0 -0.591374  0.946082 -0.591358 -0.591374 -0.591201 -0.591358  \n",
       "1 -0.600400  0.747968 -0.600370 -0.600427 -0.599726 -0.600400  \n",
       "2 -0.509464  0.345100 -0.509425 -0.509461 -0.508679 -0.509445  \n",
       "3 -0.516964  0.319671 -0.516920 -0.516966 -0.516384 -0.516953  \n",
       "4 -0.474194  0.230677 -0.474140 -0.474195 -0.473553 -0.474194  "
      ]
     },
     "execution_count": 24,
     "metadata": {},
     "output_type": "execute_result"
    }
   ],
   "source": [
    "ff_norm = ff.iloc[:,1:].apply(lambda x: (x - x.mean()) / x.std(), axis=1) \n",
    "ff_norm.head()"
   ]
  },
  {
   "cell_type": "code",
   "execution_count": 25,
   "metadata": {},
   "outputs": [
    {
     "data": {
      "image/png": "[encoded data removed]",
      "text/plain": [
       "<Figure size 432x288 with 1 Axes>"
      ]
     },
     "metadata": {
      "needs_background": "light"
     },
     "output_type": "display_data"
    }
   ],
   "source": [
    "from sklearn.cluster import KMeans\n",
    "\n",
    "# 군집 수에 따른 SSE(군집내 오차제곱합) 계산\n",
    "wss = []\n",
    "sis = []\n",
    "for k in range(2,10):\n",
    "    kmeans = KMeans(n_clusters=k, random_state=0)\n",
    "    kmeans.fit(ff_norm)\n",
    "    wss = np.append(wss, kmeans.inertia_)\n",
    "    \n",
    "    \n",
    "# 군집 수에 따른 SSE 시각화\n",
    "fig, ax = plt.subplots()\n",
    "line = ax.plot(np.arange(2,10), wss, 'go--', label='SSE')\n",
    "ax.set_ylim(wss.min()*0.55, wss.max()*1.05)\n",
    "ax.set_xlabel('군집 수')\n",
    "ax.set_ylabel('SSE')\n",
    "labels = [l.get_label() for l in line]\n",
    "plt.legend(line, labels)\n",
    "plt.show()"
   ]
  },
  {
   "cell_type": "code",
   "execution_count": 26,
   "metadata": {},
   "outputs": [
    {
     "data": {
      "text/plain": [
       "KMeans(n_clusters=3, random_state=0)"
      ]
     },
     "execution_count": 26,
     "metadata": {},
     "output_type": "execute_result"
    }
   ],
   "source": [
    "best_k = 3\n",
    "kmeans = KMeans(n_clusters=best_k, random_state=0)\n",
    "kmeans.fit(ff_norm)"
   ]
  },
  {
   "cell_type": "code",
   "execution_count": 27,
   "metadata": {},
   "outputs": [
    {
     "data": {
      "text/html": [
       "<div>\n",
       "<style scoped>\n",
       "    .dataframe tbody tr th:only-of-type {\n",
       "        vertical-align: middle;\n",
       "    }\n",
       "\n",
       "    .dataframe tbody tr th {\n",
       "        vertical-align: top;\n",
       "    }\n",
       "\n",
       "    .dataframe thead th {\n",
       "        text-align: right;\n",
       "    }\n",
       "</style>\n",
       "<table border=\"1\" class=\"dataframe\">\n",
       "  <thead>\n",
       "    <tr style=\"text-align: right;\">\n",
       "      <th></th>\n",
       "      <th>ID</th>\n",
       "      <th>총구매액</th>\n",
       "      <th>구매건수</th>\n",
       "      <th>평균구매액</th>\n",
       "      <th>최대구매액</th>\n",
       "      <th>구매상품수(중)</th>\n",
       "      <th>내점일수</th>\n",
       "      <th>구매주기</th>\n",
       "      <th>주말방문율</th>\n",
       "      <th>거래당구매액</th>\n",
       "      <th>거래당구매건수</th>\n",
       "      <th>구매추세</th>\n",
       "      <th>주구매시간</th>\n",
       "      <th>고가상품구매율</th>\n",
       "      <th>세그먼트</th>\n",
       "    </tr>\n",
       "  </thead>\n",
       "  <tbody>\n",
       "    <tr>\n",
       "      <th>0</th>\n",
       "      <td>741463</td>\n",
       "      <td>196000</td>\n",
       "      <td>2</td>\n",
       "      <td>98000</td>\n",
       "      <td>98000</td>\n",
       "      <td>1</td>\n",
       "      <td>2</td>\n",
       "      <td>19</td>\n",
       "      <td>0.0</td>\n",
       "      <td>98000.0</td>\n",
       "      <td>1.0</td>\n",
       "      <td>0.00</td>\n",
       "      <td>11</td>\n",
       "      <td>1.00</td>\n",
       "      <td>2</td>\n",
       "    </tr>\n",
       "    <tr>\n",
       "      <th>1</th>\n",
       "      <td>909249</td>\n",
       "      <td>46000</td>\n",
       "      <td>2</td>\n",
       "      <td>23000</td>\n",
       "      <td>41000</td>\n",
       "      <td>1</td>\n",
       "      <td>2</td>\n",
       "      <td>123</td>\n",
       "      <td>0.5</td>\n",
       "      <td>23000.0</td>\n",
       "      <td>1.0</td>\n",
       "      <td>0.03</td>\n",
       "      <td>12</td>\n",
       "      <td>0.50</td>\n",
       "      <td>2</td>\n",
       "    </tr>\n",
       "    <tr>\n",
       "      <th>2</th>\n",
       "      <td>1065068</td>\n",
       "      <td>87000</td>\n",
       "      <td>4</td>\n",
       "      <td>21750</td>\n",
       "      <td>38000</td>\n",
       "      <td>3</td>\n",
       "      <td>2</td>\n",
       "      <td>36</td>\n",
       "      <td>0.0</td>\n",
       "      <td>21750.0</td>\n",
       "      <td>1.0</td>\n",
       "      <td>0.08</td>\n",
       "      <td>20</td>\n",
       "      <td>0.50</td>\n",
       "      <td>2</td>\n",
       "    </tr>\n",
       "    <tr>\n",
       "      <th>3</th>\n",
       "      <td>1387032</td>\n",
       "      <td>75000</td>\n",
       "      <td>4</td>\n",
       "      <td>18750</td>\n",
       "      <td>38000</td>\n",
       "      <td>1</td>\n",
       "      <td>3</td>\n",
       "      <td>93</td>\n",
       "      <td>0.0</td>\n",
       "      <td>18750.0</td>\n",
       "      <td>1.0</td>\n",
       "      <td>-0.03</td>\n",
       "      <td>13</td>\n",
       "      <td>0.25</td>\n",
       "      <td>2</td>\n",
       "    </tr>\n",
       "    <tr>\n",
       "      <th>4</th>\n",
       "      <td>1529116</td>\n",
       "      <td>66000</td>\n",
       "      <td>5</td>\n",
       "      <td>13200</td>\n",
       "      <td>23000</td>\n",
       "      <td>1</td>\n",
       "      <td>3</td>\n",
       "      <td>20</td>\n",
       "      <td>0.0</td>\n",
       "      <td>13200.0</td>\n",
       "      <td>1.0</td>\n",
       "      <td>-0.03</td>\n",
       "      <td>12</td>\n",
       "      <td>0.00</td>\n",
       "      <td>0</td>\n",
       "    </tr>\n",
       "  </tbody>\n",
       "</table>\n",
       "</div>"
      ],
      "text/plain": [
       "        ID    총구매액  구매건수  평균구매액  최대구매액  구매상품수(중)  내점일수  구매주기  주말방문율   거래당구매액  \\\n",
       "0   741463  196000     2  98000  98000         1     2    19    0.0  98000.0   \n",
       "1   909249   46000     2  23000  41000         1     2   123    0.5  23000.0   \n",
       "2  1065068   87000     4  21750  38000         3     2    36    0.0  21750.0   \n",
       "3  1387032   75000     4  18750  38000         1     3    93    0.0  18750.0   \n",
       "4  1529116   66000     5  13200  23000         1     3    20    0.0  13200.0   \n",
       "\n",
       "   거래당구매건수  구매추세  주구매시간  고가상품구매율  세그먼트  \n",
       "0      1.0  0.00     11     1.00     2  \n",
       "1      1.0  0.03     12     0.50     2  \n",
       "2      1.0  0.08     20     0.50     2  \n",
       "3      1.0 -0.03     13     0.25     2  \n",
       "4      1.0 -0.03     12     0.00     0  "
      ]
     },
     "execution_count": 27,
     "metadata": {},
     "output_type": "execute_result"
    }
   ],
   "source": [
    "ff['세그먼트'] = kmeans.labels_\n",
    "ff.head()"
   ]
  },
  {
   "cell_type": "code",
   "execution_count": 28,
   "metadata": {},
   "outputs": [
    {
     "data": {
      "image/png": "[encoded data removed]",
      "text/plain": [
       "<Figure size 504x504 with 1 Axes>"
      ]
     },
     "metadata": {},
     "output_type": "display_data"
    }
   ],
   "source": [
    "colors = ['#ff9999', '#ffc000', '#8fd9b6']\n",
    "plt.figure(figsize=(6,6))\n",
    "ff.세그먼트.value_counts().plot.pie(autopct='%.2f%%', figsize=(7,7), \n",
    "                                      startangle=30, legend=False, colors = colors)\n",
    "plt.title(\"군집 비율\")\n",
    "plt.axis('equal')\n",
    "plt.show()"
   ]
  },
  {
   "cell_type": "code",
   "execution_count": 29,
   "metadata": {},
   "outputs": [
    {
     "data": {
      "image/png": "[encoded data removed]",
      "text/plain": [
       "<Figure size 720x720 with 3 Axes>"
      ]
     },
     "metadata": {
      "needs_background": "light"
     },
     "output_type": "display_data"
    }
   ],
   "source": [
    "fig, ax = plt.subplots(best_k, 1,  figsize=(10,10), sharex=True, sharey=True)\n",
    "ax = ax.ravel()\n",
    "plt.tight_layout()\n",
    "\n",
    "for i in range(kmeans.n_clusters):\n",
    "    ax[i].set_title('cluster %d' % i)\n",
    "    sns.barplot(x=np.arange(ff_norm.columns.size), y=kmeans.cluster_centers_[i], ax=ax[i])\n",
    "    ax[i].set_xticks(np.arange(ff_norm.columns.size))\n",
    "    ax[i].set_xticklabels(ff_norm.columns, rotation=90)"
   ]
  },
  {
   "cell_type": "code",
   "execution_count": 30,
   "metadata": {},
   "outputs": [
    {
     "data": {
      "image/png": "[encoded data removed]",
      "text/plain": [
       "<Figure size 432x288 with 2 Axes>"
      ]
     },
     "metadata": {
      "needs_background": "light"
     },
     "output_type": "display_data"
    }
   ],
   "source": [
    "# 클러스터 분석 확인\n",
    "fig, ax1 = plt.subplots()\n",
    "ax1 = ff.groupby('세그먼트')['거래당구매액'].mean().plot.bar(color = colors)\n",
    "ax1.set_ylabel('평균 거래당구매액')\n",
    "ax1.legend(bbox_to_anchor = (0.15,1.2))\n",
    "\n",
    "ax2 = ax1.twinx()\n",
    "ax2 = ff.groupby('세그먼트')['내점일수'].mean().plot(color = 'red', marker = 'o')\n",
    "ax2.set_ylabel('평균 내점일수')\n",
    "ax2.legend(bbox_to_anchor = (1.15,1.2))\n",
    "plt.show()"
   ]
  },
  {
   "cell_type": "code",
   "execution_count": 31,
   "metadata": {},
   "outputs": [
    {
     "data": {
      "text/plain": [
       "세그먼트\n",
       "0    12983.144822\n",
       "1    22645.339109\n",
       "2    22403.101714\n",
       "Name: 거래당구매액, dtype: float64"
      ]
     },
     "execution_count": 31,
     "metadata": {},
     "output_type": "execute_result"
    }
   ],
   "source": [
    "ff.groupby('세그먼트')['거래당구매액'].mean()"
   ]
  },
  {
   "cell_type": "code",
   "execution_count": 32,
   "metadata": {},
   "outputs": [
    {
     "data": {
      "text/plain": [
       "세그먼트\n",
       "0    12.359223\n",
       "1     1.012376\n",
       "2     2.379429\n",
       "Name: 내점일수, dtype: float64"
      ]
     },
     "execution_count": 32,
     "metadata": {},
     "output_type": "execute_result"
    }
   ],
   "source": [
    "ff.groupby('세그먼트')['내점일수'].mean()"
   ]
  },
  {
   "cell_type": "markdown",
   "metadata": {},
   "source": [
    "**클러스터 분석 결과**\n",
    "1. `클러스터 0` : 총구매액과 내점일수 가장 많지만, 거래당 구매액 낮음 ⇒ 주고객층으로 설정\n",
    "2. 클러스터 1 : 총구매액과 내점일수 가장 적지만, 거래당 구매액 가장 높음\n",
    "3. 클러스터 2 : 총구매액과 거래당 구매액 높은 편이고, 내점일수 낮음"
   ]
  },
  {
   "attachments": {
    "image.png": {
     "image/png": "[encoded data removed]"
    }
   },
   "cell_type": "markdown",
   "metadata": {},
   "source": [
    "_클러스터링 결과 차이_\n",
    "\n",
    "같은 코드를 실행했을 때, 클러스터링 결과 차이 존재.  \n",
    "클러스터 0은 같게 나타났지만, 클러스터 1 & 클러스터 2에서 약간의 차이 보임.  \n",
    "따라서, 클러스터 1 & 클러스터 2는 공통적으로 나타나는 특징인 적은 내점일수와 높은 거래당 구매액에 초점을 맞춰 분석 진행.\n",
    "\n",
    "![image.png](attachment:image.png)"
   ]
  },
  {
   "cell_type": "markdown",
   "metadata": {},
   "source": [
    "<font color=gold>↓ [PPT page.06]</font>"
   ]
  },
  {
   "cell_type": "markdown",
   "metadata": {},
   "source": [
    "## 2-2. 건강식품"
   ]
  },
  {
   "cell_type": "markdown",
   "metadata": {},
   "source": [
    "- 클러스터 1 & 클러스터 2 에서 거래당 구매액 높게 나타나는 이유"
   ]
  },
  {
   "cell_type": "code",
   "execution_count": 33,
   "metadata": {},
   "outputs": [
    {
     "data": {
      "image/png": "[encoded data removed]",
      "text/plain": [
       "<Figure size 432x288 with 1 Axes>"
      ]
     },
     "metadata": {
      "needs_background": "light"
     },
     "output_type": "display_data"
    }
   ],
   "source": [
    "ff.groupby('세그먼트')['거래당구매액'].mean().plot.bar(color = colors)\n",
    "plt.xticks(rotation = 0)\n",
    "plt.show()"
   ]
  },
  {
   "cell_type": "code",
   "execution_count": 34,
   "metadata": {},
   "outputs": [
    {
     "data": {
      "text/html": [
       "<div>\n",
       "<style scoped>\n",
       "    .dataframe tbody tr th:only-of-type {\n",
       "        vertical-align: middle;\n",
       "    }\n",
       "\n",
       "    .dataframe tbody tr th {\n",
       "        vertical-align: top;\n",
       "    }\n",
       "\n",
       "    .dataframe thead th {\n",
       "        text-align: right;\n",
       "    }\n",
       "</style>\n",
       "<table border=\"1\" class=\"dataframe\">\n",
       "  <thead>\n",
       "    <tr style=\"text-align: right;\">\n",
       "      <th></th>\n",
       "      <th>0</th>\n",
       "      <th>1</th>\n",
       "      <th>2</th>\n",
       "    </tr>\n",
       "  </thead>\n",
       "  <tbody>\n",
       "    <tr>\n",
       "      <th>0</th>\n",
       "      <td>가공식품</td>\n",
       "      <td>가공식품</td>\n",
       "      <td>가공식품</td>\n",
       "    </tr>\n",
       "    <tr>\n",
       "      <th>1</th>\n",
       "      <td>농산물</td>\n",
       "      <td>음료</td>\n",
       "      <td>농산물</td>\n",
       "    </tr>\n",
       "    <tr>\n",
       "      <th>2</th>\n",
       "      <td>음료</td>\n",
       "      <td>농산물</td>\n",
       "      <td>음료</td>\n",
       "    </tr>\n",
       "    <tr>\n",
       "      <th>3</th>\n",
       "      <td>수산물</td>\n",
       "      <td>수산물</td>\n",
       "      <td>수산물</td>\n",
       "    </tr>\n",
       "    <tr>\n",
       "      <th>4</th>\n",
       "      <td>축산물</td>\n",
       "      <td>건강식품</td>\n",
       "      <td>건강식품</td>\n",
       "    </tr>\n",
       "  </tbody>\n",
       "</table>\n",
       "</div>"
      ],
      "text/plain": [
       "      0     1     2\n",
       "0  가공식품  가공식품  가공식품\n",
       "1   농산물    음료   농산물\n",
       "2    음료   농산물    음료\n",
       "3   수산물   수산물   수산물\n",
       "4   축산물  건강식품  건강식품"
      ]
     },
     "execution_count": 34,
     "metadata": {},
     "output_type": "execute_result"
    }
   ],
   "source": [
    "fff = food.merge(ff[['ID','세그먼트']], on = 'ID')\n",
    "\n",
    "pd.DataFrame({customers:\n",
    "              fff[fff['세그먼트'] == customers].상품중분류명.value_counts().head(5).index for customers in fff.세그먼트.unique()})[[0,1,2]]"
   ]
  },
  {
   "cell_type": "code",
   "execution_count": 35,
   "metadata": {},
   "outputs": [
    {
     "data": {
      "image/png": "[encoded data removed]",
      "text/plain": [
       "<Figure size 432x288 with 1 Axes>"
      ]
     },
     "metadata": {
      "needs_background": "light"
     },
     "output_type": "display_data"
    }
   ],
   "source": [
    "food.groupby('상품중분류명')['구매금액'].mean().sort_values(ascending = False).plot.bar(color = colors_items[0], label = None)\n",
    "plt.title('식품 상품중분류 별 평균 금액')\n",
    "plt.show()"
   ]
  },
  {
   "cell_type": "markdown",
   "metadata": {},
   "source": [
    "# 3. Nofood"
   ]
  },
  {
   "cell_type": "markdown",
   "metadata": {},
   "source": [
    "<font color=gold>↓ [PPT page.08~09]</font>"
   ]
  },
  {
   "cell_type": "markdown",
   "metadata": {},
   "source": [
    "## 3-1. RFM 분석"
   ]
  },
  {
   "cell_type": "code",
   "execution_count": 36,
   "metadata": {},
   "outputs": [
    {
     "data": {
      "text/html": [
       "<div>\n",
       "<style scoped>\n",
       "    .dataframe tbody tr th:only-of-type {\n",
       "        vertical-align: middle;\n",
       "    }\n",
       "\n",
       "    .dataframe tbody tr th {\n",
       "        vertical-align: top;\n",
       "    }\n",
       "\n",
       "    .dataframe thead th {\n",
       "        text-align: right;\n",
       "    }\n",
       "</style>\n",
       "<table border=\"1\" class=\"dataframe\">\n",
       "  <thead>\n",
       "    <tr style=\"text-align: right;\">\n",
       "      <th></th>\n",
       "      <th>ID</th>\n",
       "      <th>recency</th>\n",
       "    </tr>\n",
       "  </thead>\n",
       "  <tbody>\n",
       "    <tr>\n",
       "      <th>0</th>\n",
       "      <td>741463</td>\n",
       "      <td>301</td>\n",
       "    </tr>\n",
       "    <tr>\n",
       "      <th>1</th>\n",
       "      <td>909249</td>\n",
       "      <td>7</td>\n",
       "    </tr>\n",
       "    <tr>\n",
       "      <th>2</th>\n",
       "      <td>1065068</td>\n",
       "      <td>3</td>\n",
       "    </tr>\n",
       "    <tr>\n",
       "      <th>3</th>\n",
       "      <td>1310410</td>\n",
       "      <td>81</td>\n",
       "    </tr>\n",
       "    <tr>\n",
       "      <th>4</th>\n",
       "      <td>1387032</td>\n",
       "      <td>311</td>\n",
       "    </tr>\n",
       "  </tbody>\n",
       "</table>\n",
       "</div>"
      ],
      "text/plain": [
       "        ID  recency\n",
       "0   741463      301\n",
       "1   909249        7\n",
       "2  1065068        3\n",
       "3  1310410       81\n",
       "4  1387032      311"
      ]
     },
     "execution_count": 36,
     "metadata": {},
     "output_type": "execute_result"
    }
   ],
   "source": [
    "# R\n",
    "# 최종 구매일 다음날을 기준으로 계산 \n",
    "now = nofood.구매일자.max()+pd.DateOffset(days=1)\n",
    "\n",
    "# method chaining (multi-line)\n",
    "recency = (nofood.groupby('ID')['구매일자']\n",
    "           .agg(lambda x,y: (y - x).min().days, now).reset_index()\n",
    "           .rename(columns={'구매일자':'recency'})\n",
    "          )\n",
    "recency.head()"
   ]
  },
  {
   "cell_type": "code",
   "execution_count": 37,
   "metadata": {},
   "outputs": [
    {
     "data": {
      "text/html": [
       "<div>\n",
       "<style scoped>\n",
       "    .dataframe tbody tr th:only-of-type {\n",
       "        vertical-align: middle;\n",
       "    }\n",
       "\n",
       "    .dataframe tbody tr th {\n",
       "        vertical-align: top;\n",
       "    }\n",
       "\n",
       "    .dataframe thead th {\n",
       "        text-align: right;\n",
       "    }\n",
       "</style>\n",
       "<table border=\"1\" class=\"dataframe\">\n",
       "  <thead>\n",
       "    <tr style=\"text-align: right;\">\n",
       "      <th></th>\n",
       "      <th>ID</th>\n",
       "      <th>frequency</th>\n",
       "    </tr>\n",
       "  </thead>\n",
       "  <tbody>\n",
       "    <tr>\n",
       "      <th>0</th>\n",
       "      <td>467105964</td>\n",
       "      <td>319</td>\n",
       "    </tr>\n",
       "    <tr>\n",
       "      <th>1</th>\n",
       "      <td>67292818</td>\n",
       "      <td>309</td>\n",
       "    </tr>\n",
       "    <tr>\n",
       "      <th>2</th>\n",
       "      <td>709252477</td>\n",
       "      <td>284</td>\n",
       "    </tr>\n",
       "    <tr>\n",
       "      <th>3</th>\n",
       "      <td>306915014</td>\n",
       "      <td>272</td>\n",
       "    </tr>\n",
       "    <tr>\n",
       "      <th>4</th>\n",
       "      <td>808654096</td>\n",
       "      <td>263</td>\n",
       "    </tr>\n",
       "  </tbody>\n",
       "</table>\n",
       "</div>"
      ],
      "text/plain": [
       "          ID  frequency\n",
       "0  467105964        319\n",
       "1   67292818        309\n",
       "2  709252477        284\n",
       "3  306915014        272\n",
       "4  808654096        263"
      ]
     },
     "execution_count": 37,
     "metadata": {},
     "output_type": "execute_result"
    }
   ],
   "source": [
    "# F\n",
    "frequency = nofood.ID.value_counts().reset_index().rename(columns={'index' : 'ID', 'ID' : 'frequency'})\n",
    "frequency.head()"
   ]
  },
  {
   "cell_type": "code",
   "execution_count": 38,
   "metadata": {},
   "outputs": [
    {
     "data": {
      "text/html": [
       "<div>\n",
       "<style scoped>\n",
       "    .dataframe tbody tr th:only-of-type {\n",
       "        vertical-align: middle;\n",
       "    }\n",
       "\n",
       "    .dataframe tbody tr th {\n",
       "        vertical-align: top;\n",
       "    }\n",
       "\n",
       "    .dataframe thead th {\n",
       "        text-align: right;\n",
       "    }\n",
       "</style>\n",
       "<table border=\"1\" class=\"dataframe\">\n",
       "  <thead>\n",
       "    <tr style=\"text-align: right;\">\n",
       "      <th></th>\n",
       "      <th>ID</th>\n",
       "      <th>monetary</th>\n",
       "    </tr>\n",
       "  </thead>\n",
       "  <tbody>\n",
       "    <tr>\n",
       "      <th>0</th>\n",
       "      <td>741463</td>\n",
       "      <td>364000</td>\n",
       "    </tr>\n",
       "    <tr>\n",
       "      <th>1</th>\n",
       "      <td>909249</td>\n",
       "      <td>594000</td>\n",
       "    </tr>\n",
       "    <tr>\n",
       "      <th>2</th>\n",
       "      <td>1065068</td>\n",
       "      <td>1016000</td>\n",
       "    </tr>\n",
       "    <tr>\n",
       "      <th>3</th>\n",
       "      <td>1310410</td>\n",
       "      <td>249000</td>\n",
       "    </tr>\n",
       "    <tr>\n",
       "      <th>4</th>\n",
       "      <td>1387032</td>\n",
       "      <td>38000</td>\n",
       "    </tr>\n",
       "  </tbody>\n",
       "</table>\n",
       "</div>"
      ],
      "text/plain": [
       "        ID  monetary\n",
       "0   741463    364000\n",
       "1   909249    594000\n",
       "2  1065068   1016000\n",
       "3  1310410    249000\n",
       "4  1387032     38000"
      ]
     },
     "execution_count": 38,
     "metadata": {},
     "output_type": "execute_result"
    }
   ],
   "source": [
    "# M\n",
    "monetary = nofood.groupby('ID')['구매금액'].agg([('monetary', np.sum)]).reset_index()\n",
    "monetary.head()"
   ]
  },
  {
   "cell_type": "code",
   "execution_count": 39,
   "metadata": {},
   "outputs": [
    {
     "data": {
      "text/html": [
       "<div>\n",
       "<style scoped>\n",
       "    .dataframe tbody tr th:only-of-type {\n",
       "        vertical-align: middle;\n",
       "    }\n",
       "\n",
       "    .dataframe tbody tr th {\n",
       "        vertical-align: top;\n",
       "    }\n",
       "\n",
       "    .dataframe thead th {\n",
       "        text-align: right;\n",
       "    }\n",
       "</style>\n",
       "<table border=\"1\" class=\"dataframe\">\n",
       "  <thead>\n",
       "    <tr style=\"text-align: right;\">\n",
       "      <th></th>\n",
       "      <th>ID</th>\n",
       "      <th>recency</th>\n",
       "      <th>frequency</th>\n",
       "      <th>monetary</th>\n",
       "    </tr>\n",
       "  </thead>\n",
       "  <tbody>\n",
       "    <tr>\n",
       "      <th>0</th>\n",
       "      <td>741463</td>\n",
       "      <td>301</td>\n",
       "      <td>5</td>\n",
       "      <td>364000</td>\n",
       "    </tr>\n",
       "    <tr>\n",
       "      <th>1</th>\n",
       "      <td>909249</td>\n",
       "      <td>7</td>\n",
       "      <td>27</td>\n",
       "      <td>594000</td>\n",
       "    </tr>\n",
       "    <tr>\n",
       "      <th>2</th>\n",
       "      <td>1065068</td>\n",
       "      <td>3</td>\n",
       "      <td>7</td>\n",
       "      <td>1016000</td>\n",
       "    </tr>\n",
       "    <tr>\n",
       "      <th>3</th>\n",
       "      <td>1310410</td>\n",
       "      <td>81</td>\n",
       "      <td>2</td>\n",
       "      <td>249000</td>\n",
       "    </tr>\n",
       "    <tr>\n",
       "      <th>4</th>\n",
       "      <td>1387032</td>\n",
       "      <td>311</td>\n",
       "      <td>2</td>\n",
       "      <td>38000</td>\n",
       "    </tr>\n",
       "  </tbody>\n",
       "</table>\n",
       "</div>"
      ],
      "text/plain": [
       "        ID  recency  frequency  monetary\n",
       "0   741463      301          5    364000\n",
       "1   909249        7         27    594000\n",
       "2  1065068        3          7   1016000\n",
       "3  1310410       81          2    249000\n",
       "4  1387032      311          2     38000"
      ]
     },
     "execution_count": 39,
     "metadata": {},
     "output_type": "execute_result"
    }
   ],
   "source": [
    "# 위에서 만든 3개의 data_frame를 merge\n",
    "rfm = recency.merge(frequency).merge(monetary)\n",
    "rfm.head()"
   ]
  },
  {
   "cell_type": "code",
   "execution_count": 40,
   "metadata": {},
   "outputs": [
    {
     "data": {
      "text/html": [
       "<div>\n",
       "<style scoped>\n",
       "    .dataframe tbody tr th:only-of-type {\n",
       "        vertical-align: middle;\n",
       "    }\n",
       "\n",
       "    .dataframe tbody tr th {\n",
       "        vertical-align: top;\n",
       "    }\n",
       "\n",
       "    .dataframe thead th {\n",
       "        text-align: right;\n",
       "    }\n",
       "</style>\n",
       "<table border=\"1\" class=\"dataframe\">\n",
       "  <thead>\n",
       "    <tr style=\"text-align: right;\">\n",
       "      <th></th>\n",
       "      <th>ID</th>\n",
       "      <th>recency</th>\n",
       "      <th>frequency</th>\n",
       "      <th>monetary</th>\n",
       "      <th>R</th>\n",
       "      <th>F</th>\n",
       "      <th>M</th>\n",
       "    </tr>\n",
       "  </thead>\n",
       "  <tbody>\n",
       "    <tr>\n",
       "      <th>0</th>\n",
       "      <td>741463</td>\n",
       "      <td>301</td>\n",
       "      <td>5</td>\n",
       "      <td>364000</td>\n",
       "      <td>1</td>\n",
       "      <td>2</td>\n",
       "      <td>2</td>\n",
       "    </tr>\n",
       "    <tr>\n",
       "      <th>1</th>\n",
       "      <td>909249</td>\n",
       "      <td>7</td>\n",
       "      <td>27</td>\n",
       "      <td>594000</td>\n",
       "      <td>5</td>\n",
       "      <td>5</td>\n",
       "      <td>2</td>\n",
       "    </tr>\n",
       "    <tr>\n",
       "      <th>2</th>\n",
       "      <td>1065068</td>\n",
       "      <td>3</td>\n",
       "      <td>7</td>\n",
       "      <td>1016000</td>\n",
       "      <td>5</td>\n",
       "      <td>3</td>\n",
       "      <td>3</td>\n",
       "    </tr>\n",
       "    <tr>\n",
       "      <th>3</th>\n",
       "      <td>1310410</td>\n",
       "      <td>81</td>\n",
       "      <td>2</td>\n",
       "      <td>249000</td>\n",
       "      <td>2</td>\n",
       "      <td>1</td>\n",
       "      <td>1</td>\n",
       "    </tr>\n",
       "    <tr>\n",
       "      <th>4</th>\n",
       "      <td>1387032</td>\n",
       "      <td>311</td>\n",
       "      <td>2</td>\n",
       "      <td>38000</td>\n",
       "      <td>1</td>\n",
       "      <td>1</td>\n",
       "      <td>1</td>\n",
       "    </tr>\n",
       "  </tbody>\n",
       "</table>\n",
       "</div>"
      ],
      "text/plain": [
       "        ID  recency  frequency  monetary  R  F  M\n",
       "0   741463      301          5    364000  1  2  2\n",
       "1   909249        7         27    594000  5  5  2\n",
       "2  1065068        3          7   1016000  5  3  3\n",
       "3  1310410       81          2    249000  2  1  1\n",
       "4  1387032      311          2     38000  1  1  1"
      ]
     },
     "execution_count": 40,
     "metadata": {},
     "output_type": "execute_result"
    }
   ],
   "source": [
    "# recency, frequency, monetary 값을 각각 5분위로 분류하여 점수 부여\n",
    "rfm['R'] = pd.qcut(rfm['recency'], q=5, labels=range(5,0,-1)).astype(int)\n",
    "rfm['F'] = pd.qcut(rfm['frequency'], q=5, labels=range(1,6)).astype(int)\n",
    "rfm['M'] = pd.qcut(rfm['monetary'], q=5, labels=range(1,6)).astype(int)\n",
    "rfm.head()"
   ]
  },
  {
   "cell_type": "code",
   "execution_count": 41,
   "metadata": {},
   "outputs": [
    {
     "data": {
      "text/html": [
       "<div>\n",
       "<style scoped>\n",
       "    .dataframe tbody tr th:only-of-type {\n",
       "        vertical-align: middle;\n",
       "    }\n",
       "\n",
       "    .dataframe tbody tr th {\n",
       "        vertical-align: top;\n",
       "    }\n",
       "\n",
       "    .dataframe thead th {\n",
       "        text-align: right;\n",
       "    }\n",
       "</style>\n",
       "<table border=\"1\" class=\"dataframe\">\n",
       "  <thead>\n",
       "    <tr style=\"text-align: right;\">\n",
       "      <th></th>\n",
       "      <th>ID</th>\n",
       "      <th>recency</th>\n",
       "      <th>frequency</th>\n",
       "      <th>monetary</th>\n",
       "      <th>R</th>\n",
       "      <th>F</th>\n",
       "      <th>M</th>\n",
       "      <th>RFMgroup</th>\n",
       "    </tr>\n",
       "  </thead>\n",
       "  <tbody>\n",
       "    <tr>\n",
       "      <th>0</th>\n",
       "      <td>741463</td>\n",
       "      <td>301</td>\n",
       "      <td>5</td>\n",
       "      <td>364000</td>\n",
       "      <td>1</td>\n",
       "      <td>2</td>\n",
       "      <td>2</td>\n",
       "      <td>122</td>\n",
       "    </tr>\n",
       "    <tr>\n",
       "      <th>1</th>\n",
       "      <td>909249</td>\n",
       "      <td>7</td>\n",
       "      <td>27</td>\n",
       "      <td>594000</td>\n",
       "      <td>5</td>\n",
       "      <td>5</td>\n",
       "      <td>2</td>\n",
       "      <td>552</td>\n",
       "    </tr>\n",
       "    <tr>\n",
       "      <th>2</th>\n",
       "      <td>1065068</td>\n",
       "      <td>3</td>\n",
       "      <td>7</td>\n",
       "      <td>1016000</td>\n",
       "      <td>5</td>\n",
       "      <td>3</td>\n",
       "      <td>3</td>\n",
       "      <td>533</td>\n",
       "    </tr>\n",
       "    <tr>\n",
       "      <th>3</th>\n",
       "      <td>1310410</td>\n",
       "      <td>81</td>\n",
       "      <td>2</td>\n",
       "      <td>249000</td>\n",
       "      <td>2</td>\n",
       "      <td>1</td>\n",
       "      <td>1</td>\n",
       "      <td>211</td>\n",
       "    </tr>\n",
       "    <tr>\n",
       "      <th>4</th>\n",
       "      <td>1387032</td>\n",
       "      <td>311</td>\n",
       "      <td>2</td>\n",
       "      <td>38000</td>\n",
       "      <td>1</td>\n",
       "      <td>1</td>\n",
       "      <td>1</td>\n",
       "      <td>111</td>\n",
       "    </tr>\n",
       "  </tbody>\n",
       "</table>\n",
       "</div>"
      ],
      "text/plain": [
       "        ID  recency  frequency  monetary  R  F  M RFMgroup\n",
       "0   741463      301          5    364000  1  2  2      122\n",
       "1   909249        7         27    594000  5  5  2      552\n",
       "2  1065068        3          7   1016000  5  3  3      533\n",
       "3  1310410       81          2    249000  2  1  1      211\n",
       "4  1387032      311          2     38000  1  1  1      111"
      ]
     },
     "execution_count": 41,
     "metadata": {},
     "output_type": "execute_result"
    }
   ],
   "source": [
    "# R,F,M 점수를 조합하여 RFM 그룹 생성\n",
    "rfm['RFMgroup'] = rfm['R'].map(str) + rfm['F'].map(str) + rfm['M'].map(str)\n",
    "rfm.head()"
   ]
  },
  {
   "cell_type": "code",
   "execution_count": 42,
   "metadata": {},
   "outputs": [
    {
     "name": "stderr",
     "output_type": "stream",
     "text": [
      "c:\\users\\dltnq\\anaconda3\\lib\\site-packages\\pandas\\core\\indexing.py:1637: SettingWithCopyWarning: \n",
      "A value is trying to be set on a copy of a slice from a DataFrame\n",
      "\n",
      "See the caveats in the documentation: https://pandas.pydata.org/pandas-docs/stable/user_guide/indexing.html#returning-a-view-versus-a-copy\n",
      "  self._setitem_single_block(indexer, value, name)\n"
     ]
    }
   ],
   "source": [
    "# 고객군 분류\n",
    "\n",
    "best = list(rfm.loc[rfm['RFMgroup'] == '333'].index) #333\n",
    "lost_cheap = list(rfm.loc[rfm['RFMgroup'] == '111'].index) #111\n",
    "lost = list(rfm.loc[rfm['RFMgroup'] == '133'].index) #133\n",
    "lost_almost = list(rfm.loc[rfm['RFMgroup'] == '233'].index) #233\n",
    "\n",
    "rfm['Segment'] = 0\n",
    "\n",
    "for i in rfm.index :\n",
    "    if i in lost_cheap :\n",
    "        rfm['Segment'].iloc[i] = 'Lost Cheap Customers'\n",
    "    elif i in lost : \n",
    "        rfm['Segment'].iloc[i] = 'Lost Customer'\n",
    "    elif i in best : \n",
    "        rfm['Segment'].iloc[i] = 'Best Customer'\n",
    "    elif i in lost_almost : \n",
    "        rfm['Segment'].iloc[i] = 'Almost Lost'\n",
    "    else : \n",
    "        rfm['Segment'].iloc[i] = 'Other'"
   ]
  },
  {
   "cell_type": "code",
   "execution_count": 43,
   "metadata": {},
   "outputs": [
    {
     "name": "stderr",
     "output_type": "stream",
     "text": [
      "c:\\users\\dltnq\\anaconda3\\lib\\site-packages\\pandas\\core\\indexing.py:1637: SettingWithCopyWarning: \n",
      "A value is trying to be set on a copy of a slice from a DataFrame\n",
      "\n",
      "See the caveats in the documentation: https://pandas.pydata.org/pandas-docs/stable/user_guide/indexing.html#returning-a-view-versus-a-copy\n",
      "  self._setitem_single_block(indexer, value, name)\n"
     ]
    }
   ],
   "source": [
    "loyal = list(rfm.loc[rfm['F'] == 3].index) #그 외 RFM group에서 F 3인 그룹\n",
    "loyal2 = []\n",
    "\n",
    "for i in loyal :\n",
    "    if i not in best and i not in lost_cheap and i not in lost_almost and i not in lost :\n",
    "        loyal2.append(i)\n",
    "\n",
    "for i in rfm.index :\n",
    "    if i in loyal2:\n",
    "        rfm.Segment.iloc[i] = 'Loyal Customers'"
   ]
  },
  {
   "cell_type": "code",
   "execution_count": 44,
   "metadata": {},
   "outputs": [
    {
     "name": "stderr",
     "output_type": "stream",
     "text": [
      "c:\\users\\dltnq\\anaconda3\\lib\\site-packages\\pandas\\core\\indexing.py:1637: SettingWithCopyWarning: \n",
      "A value is trying to be set on a copy of a slice from a DataFrame\n",
      "\n",
      "See the caveats in the documentation: https://pandas.pydata.org/pandas-docs/stable/user_guide/indexing.html#returning-a-view-versus-a-copy\n",
      "  self._setitem_single_block(indexer, value, name)\n"
     ]
    }
   ],
   "source": [
    "big = list(rfm.loc[rfm['M'] == 3].index) # 그 외 RFM group에서 M 3인 그룹\n",
    "big2 = []\n",
    "\n",
    "for i in big :\n",
    "    if i not in best and i not in lost_cheap and i not in lost_almost and i not in lost :\n",
    "        big2.append(i)\n",
    "\n",
    "for i in rfm.index :\n",
    "    if i in big2:\n",
    "        rfm.Segment.iloc[i] = 'Big Spenders'"
   ]
  },
  {
   "cell_type": "code",
   "execution_count": 45,
   "metadata": {},
   "outputs": [
    {
     "data": {
      "text/html": [
       "<div>\n",
       "<style scoped>\n",
       "    .dataframe tbody tr th:only-of-type {\n",
       "        vertical-align: middle;\n",
       "    }\n",
       "\n",
       "    .dataframe tbody tr th {\n",
       "        vertical-align: top;\n",
       "    }\n",
       "\n",
       "    .dataframe thead th {\n",
       "        text-align: right;\n",
       "    }\n",
       "</style>\n",
       "<table border=\"1\" class=\"dataframe\">\n",
       "  <thead>\n",
       "    <tr style=\"text-align: right;\">\n",
       "      <th></th>\n",
       "      <th>ID</th>\n",
       "      <th>성별</th>\n",
       "      <th>연령</th>\n",
       "      <th>거주지역</th>\n",
       "      <th>상품대분류명</th>\n",
       "      <th>상품중분류명</th>\n",
       "      <th>구매지역</th>\n",
       "      <th>구매일자</th>\n",
       "      <th>구매시간</th>\n",
       "      <th>구매수량</th>\n",
       "      <th>...</th>\n",
       "      <th>평일주말</th>\n",
       "      <th>연령대</th>\n",
       "      <th>recency</th>\n",
       "      <th>frequency</th>\n",
       "      <th>monetary</th>\n",
       "      <th>R</th>\n",
       "      <th>F</th>\n",
       "      <th>M</th>\n",
       "      <th>RFMgroup</th>\n",
       "      <th>Segment</th>\n",
       "    </tr>\n",
       "  </thead>\n",
       "  <tbody>\n",
       "    <tr>\n",
       "      <th>0</th>\n",
       "      <td>478207946</td>\n",
       "      <td>남</td>\n",
       "      <td>84</td>\n",
       "      <td>서울 성동구</td>\n",
       "      <td>가전제품</td>\n",
       "      <td>컴퓨터주변기기</td>\n",
       "      <td>서울 동대문구</td>\n",
       "      <td>2014-12-19</td>\n",
       "      <td>13</td>\n",
       "      <td>1</td>\n",
       "      <td>...</td>\n",
       "      <td>평일</td>\n",
       "      <td>80대</td>\n",
       "      <td>13</td>\n",
       "      <td>4</td>\n",
       "      <td>320000</td>\n",
       "      <td>4</td>\n",
       "      <td>2</td>\n",
       "      <td>2</td>\n",
       "      <td>422</td>\n",
       "      <td>Other</td>\n",
       "    </tr>\n",
       "    <tr>\n",
       "      <th>1</th>\n",
       "      <td>478207946</td>\n",
       "      <td>남</td>\n",
       "      <td>84</td>\n",
       "      <td>서울 성동구</td>\n",
       "      <td>가전제품</td>\n",
       "      <td>TV/AV</td>\n",
       "      <td>서울 동대문구</td>\n",
       "      <td>2014-10-31</td>\n",
       "      <td>14</td>\n",
       "      <td>1</td>\n",
       "      <td>...</td>\n",
       "      <td>평일</td>\n",
       "      <td>80대</td>\n",
       "      <td>13</td>\n",
       "      <td>4</td>\n",
       "      <td>320000</td>\n",
       "      <td>4</td>\n",
       "      <td>2</td>\n",
       "      <td>2</td>\n",
       "      <td>422</td>\n",
       "      <td>Other</td>\n",
       "    </tr>\n",
       "    <tr>\n",
       "      <th>2</th>\n",
       "      <td>478207946</td>\n",
       "      <td>남</td>\n",
       "      <td>84</td>\n",
       "      <td>서울 성동구</td>\n",
       "      <td>가전제품</td>\n",
       "      <td>주방가전</td>\n",
       "      <td>서울 중구</td>\n",
       "      <td>2014-08-15</td>\n",
       "      <td>15</td>\n",
       "      <td>1</td>\n",
       "      <td>...</td>\n",
       "      <td>평일</td>\n",
       "      <td>80대</td>\n",
       "      <td>13</td>\n",
       "      <td>4</td>\n",
       "      <td>320000</td>\n",
       "      <td>4</td>\n",
       "      <td>2</td>\n",
       "      <td>2</td>\n",
       "      <td>422</td>\n",
       "      <td>Other</td>\n",
       "    </tr>\n",
       "    <tr>\n",
       "      <th>3</th>\n",
       "      <td>478207946</td>\n",
       "      <td>남</td>\n",
       "      <td>84</td>\n",
       "      <td>서울 성동구</td>\n",
       "      <td>의류잡화</td>\n",
       "      <td>여성용의류-이너웨어</td>\n",
       "      <td>서울 동대문구</td>\n",
       "      <td>2014-03-22</td>\n",
       "      <td>17</td>\n",
       "      <td>1</td>\n",
       "      <td>...</td>\n",
       "      <td>주말</td>\n",
       "      <td>80대</td>\n",
       "      <td>13</td>\n",
       "      <td>4</td>\n",
       "      <td>320000</td>\n",
       "      <td>4</td>\n",
       "      <td>2</td>\n",
       "      <td>2</td>\n",
       "      <td>422</td>\n",
       "      <td>Other</td>\n",
       "    </tr>\n",
       "    <tr>\n",
       "      <th>4</th>\n",
       "      <td>479806984</td>\n",
       "      <td>남</td>\n",
       "      <td>84</td>\n",
       "      <td>서울 서초구</td>\n",
       "      <td>생활잡화</td>\n",
       "      <td>화장품</td>\n",
       "      <td>서울 중구</td>\n",
       "      <td>2014-07-04</td>\n",
       "      <td>12</td>\n",
       "      <td>1</td>\n",
       "      <td>...</td>\n",
       "      <td>평일</td>\n",
       "      <td>80대</td>\n",
       "      <td>14</td>\n",
       "      <td>5</td>\n",
       "      <td>318000</td>\n",
       "      <td>4</td>\n",
       "      <td>2</td>\n",
       "      <td>2</td>\n",
       "      <td>422</td>\n",
       "      <td>Other</td>\n",
       "    </tr>\n",
       "  </tbody>\n",
       "</table>\n",
       "<p>5 rows × 25 columns</p>\n",
       "</div>"
      ],
      "text/plain": [
       "          ID 성별  연령    거주지역 상품대분류명      상품중분류명     구매지역       구매일자  구매시간  \\\n",
       "0  478207946  남  84  서울 성동구   가전제품     컴퓨터주변기기  서울 동대문구 2014-12-19    13   \n",
       "1  478207946  남  84  서울 성동구   가전제품       TV/AV  서울 동대문구 2014-10-31    14   \n",
       "2  478207946  남  84  서울 성동구   가전제품        주방가전    서울 중구 2014-08-15    15   \n",
       "3  478207946  남  84  서울 성동구   의류잡화  여성용의류-이너웨어  서울 동대문구 2014-03-22    17   \n",
       "4  479806984  남  84  서울 서초구   생활잡화         화장품    서울 중구 2014-07-04    12   \n",
       "\n",
       "   구매수량  ...  평일주말  연령대  recency frequency monetary  R  F  M  RFMgroup  \\\n",
       "0     1  ...    평일  80대       13         4   320000  4  2  2       422   \n",
       "1     1  ...    평일  80대       13         4   320000  4  2  2       422   \n",
       "2     1  ...    평일  80대       13         4   320000  4  2  2       422   \n",
       "3     1  ...    주말  80대       13         4   320000  4  2  2       422   \n",
       "4     1  ...    평일  80대       14         5   318000  4  2  2       422   \n",
       "\n",
       "   Segment  \n",
       "0    Other  \n",
       "1    Other  \n",
       "2    Other  \n",
       "3    Other  \n",
       "4    Other  \n",
       "\n",
       "[5 rows x 25 columns]"
      ]
     },
     "execution_count": 45,
     "metadata": {},
     "output_type": "execute_result"
    }
   ],
   "source": [
    "md = pd.merge(nofood, rfm)\n",
    "md.head()"
   ]
  },
  {
   "cell_type": "code",
   "execution_count": 46,
   "metadata": {},
   "outputs": [
    {
     "data": {
      "text/html": [
       "<div>\n",
       "<style scoped>\n",
       "    .dataframe tbody tr th:only-of-type {\n",
       "        vertical-align: middle;\n",
       "    }\n",
       "\n",
       "    .dataframe tbody tr th {\n",
       "        vertical-align: top;\n",
       "    }\n",
       "\n",
       "    .dataframe thead th {\n",
       "        text-align: right;\n",
       "    }\n",
       "</style>\n",
       "<table border=\"1\" class=\"dataframe\">\n",
       "  <thead>\n",
       "    <tr style=\"text-align: right;\">\n",
       "      <th></th>\n",
       "      <th>ID</th>\n",
       "      <th>성별</th>\n",
       "      <th>연령</th>\n",
       "      <th>거주지역</th>\n",
       "      <th>상품대분류명</th>\n",
       "      <th>상품중분류명</th>\n",
       "      <th>구매지역</th>\n",
       "      <th>구매일자</th>\n",
       "      <th>구매시간</th>\n",
       "      <th>구매수량</th>\n",
       "      <th>...</th>\n",
       "      <th>평일주말</th>\n",
       "      <th>연령대</th>\n",
       "      <th>recency</th>\n",
       "      <th>frequency</th>\n",
       "      <th>monetary</th>\n",
       "      <th>R</th>\n",
       "      <th>F</th>\n",
       "      <th>M</th>\n",
       "      <th>RFMgroup</th>\n",
       "      <th>Segment</th>\n",
       "    </tr>\n",
       "  </thead>\n",
       "  <tbody>\n",
       "    <tr>\n",
       "      <th>0</th>\n",
       "      <td>478207946</td>\n",
       "      <td>남</td>\n",
       "      <td>84</td>\n",
       "      <td>서울 성동구</td>\n",
       "      <td>가전제품</td>\n",
       "      <td>컴퓨터주변기기</td>\n",
       "      <td>서울 동대문구</td>\n",
       "      <td>2014-12-19</td>\n",
       "      <td>13</td>\n",
       "      <td>1</td>\n",
       "      <td>...</td>\n",
       "      <td>평일</td>\n",
       "      <td>80대</td>\n",
       "      <td>13</td>\n",
       "      <td>4</td>\n",
       "      <td>320000</td>\n",
       "      <td>4</td>\n",
       "      <td>2</td>\n",
       "      <td>2</td>\n",
       "      <td>422</td>\n",
       "      <td>Other</td>\n",
       "    </tr>\n",
       "    <tr>\n",
       "      <th>1</th>\n",
       "      <td>478207946</td>\n",
       "      <td>남</td>\n",
       "      <td>84</td>\n",
       "      <td>서울 성동구</td>\n",
       "      <td>가전제품</td>\n",
       "      <td>TV/AV</td>\n",
       "      <td>서울 동대문구</td>\n",
       "      <td>2014-10-31</td>\n",
       "      <td>14</td>\n",
       "      <td>1</td>\n",
       "      <td>...</td>\n",
       "      <td>평일</td>\n",
       "      <td>80대</td>\n",
       "      <td>13</td>\n",
       "      <td>4</td>\n",
       "      <td>320000</td>\n",
       "      <td>4</td>\n",
       "      <td>2</td>\n",
       "      <td>2</td>\n",
       "      <td>422</td>\n",
       "      <td>Other</td>\n",
       "    </tr>\n",
       "    <tr>\n",
       "      <th>2</th>\n",
       "      <td>478207946</td>\n",
       "      <td>남</td>\n",
       "      <td>84</td>\n",
       "      <td>서울 성동구</td>\n",
       "      <td>가전제품</td>\n",
       "      <td>주방가전</td>\n",
       "      <td>서울 중구</td>\n",
       "      <td>2014-08-15</td>\n",
       "      <td>15</td>\n",
       "      <td>1</td>\n",
       "      <td>...</td>\n",
       "      <td>평일</td>\n",
       "      <td>80대</td>\n",
       "      <td>13</td>\n",
       "      <td>4</td>\n",
       "      <td>320000</td>\n",
       "      <td>4</td>\n",
       "      <td>2</td>\n",
       "      <td>2</td>\n",
       "      <td>422</td>\n",
       "      <td>Other</td>\n",
       "    </tr>\n",
       "    <tr>\n",
       "      <th>3</th>\n",
       "      <td>478207946</td>\n",
       "      <td>남</td>\n",
       "      <td>84</td>\n",
       "      <td>서울 성동구</td>\n",
       "      <td>의류잡화</td>\n",
       "      <td>여성용의류-이너웨어</td>\n",
       "      <td>서울 동대문구</td>\n",
       "      <td>2014-03-22</td>\n",
       "      <td>17</td>\n",
       "      <td>1</td>\n",
       "      <td>...</td>\n",
       "      <td>주말</td>\n",
       "      <td>80대</td>\n",
       "      <td>13</td>\n",
       "      <td>4</td>\n",
       "      <td>320000</td>\n",
       "      <td>4</td>\n",
       "      <td>2</td>\n",
       "      <td>2</td>\n",
       "      <td>422</td>\n",
       "      <td>Other</td>\n",
       "    </tr>\n",
       "    <tr>\n",
       "      <th>4</th>\n",
       "      <td>479806984</td>\n",
       "      <td>남</td>\n",
       "      <td>84</td>\n",
       "      <td>서울 서초구</td>\n",
       "      <td>생활잡화</td>\n",
       "      <td>화장품</td>\n",
       "      <td>서울 중구</td>\n",
       "      <td>2014-07-04</td>\n",
       "      <td>12</td>\n",
       "      <td>1</td>\n",
       "      <td>...</td>\n",
       "      <td>평일</td>\n",
       "      <td>80대</td>\n",
       "      <td>14</td>\n",
       "      <td>5</td>\n",
       "      <td>318000</td>\n",
       "      <td>4</td>\n",
       "      <td>2</td>\n",
       "      <td>2</td>\n",
       "      <td>422</td>\n",
       "      <td>Other</td>\n",
       "    </tr>\n",
       "  </tbody>\n",
       "</table>\n",
       "<p>5 rows × 25 columns</p>\n",
       "</div>"
      ],
      "text/plain": [
       "          ID 성별  연령    거주지역 상품대분류명      상품중분류명     구매지역       구매일자  구매시간  \\\n",
       "0  478207946  남  84  서울 성동구   가전제품     컴퓨터주변기기  서울 동대문구 2014-12-19    13   \n",
       "1  478207946  남  84  서울 성동구   가전제품       TV/AV  서울 동대문구 2014-10-31    14   \n",
       "2  478207946  남  84  서울 성동구   가전제품        주방가전    서울 중구 2014-08-15    15   \n",
       "3  478207946  남  84  서울 성동구   의류잡화  여성용의류-이너웨어  서울 동대문구 2014-03-22    17   \n",
       "4  479806984  남  84  서울 서초구   생활잡화         화장품    서울 중구 2014-07-04    12   \n",
       "\n",
       "   구매수량  ...  평일주말  연령대  recency frequency monetary  R  F  M  RFMgroup  \\\n",
       "0     1  ...    평일  80대       13         4   320000  4  2  2       422   \n",
       "1     1  ...    평일  80대       13         4   320000  4  2  2       422   \n",
       "2     1  ...    평일  80대       13         4   320000  4  2  2       422   \n",
       "3     1  ...    주말  80대       13         4   320000  4  2  2       422   \n",
       "4     1  ...    평일  80대       14         5   318000  4  2  2       422   \n",
       "\n",
       "   Segment  \n",
       "0    Other  \n",
       "1    Other  \n",
       "2    Other  \n",
       "3    Other  \n",
       "4    Other  \n",
       "\n",
       "[5 rows x 25 columns]"
      ]
     },
     "execution_count": 46,
     "metadata": {},
     "output_type": "execute_result"
    }
   ],
   "source": [
    "md.head()"
   ]
  },
  {
   "cell_type": "code",
   "execution_count": 47,
   "metadata": {},
   "outputs": [],
   "source": [
    "sq1 = md.groupby('Segment')['구매금액'].sum().sort_values(ascending = False).reset_index()\n",
    "sq1.drop([0], inplace = True) #Segment \"other\" 제거"
   ]
  },
  {
   "cell_type": "code",
   "execution_count": 48,
   "metadata": {},
   "outputs": [
    {
     "data": {
      "text/html": [
       "<div>\n",
       "<style scoped>\n",
       "    .dataframe tbody tr th:only-of-type {\n",
       "        vertical-align: middle;\n",
       "    }\n",
       "\n",
       "    .dataframe tbody tr th {\n",
       "        vertical-align: top;\n",
       "    }\n",
       "\n",
       "    .dataframe thead th {\n",
       "        text-align: right;\n",
       "    }\n",
       "</style>\n",
       "<table border=\"1\" class=\"dataframe\">\n",
       "  <thead>\n",
       "    <tr style=\"text-align: right;\">\n",
       "      <th></th>\n",
       "      <th>Segment</th>\n",
       "      <th>ID</th>\n",
       "    </tr>\n",
       "  </thead>\n",
       "  <tbody>\n",
       "    <tr>\n",
       "      <th>0</th>\n",
       "      <td>Loyal Customers</td>\n",
       "      <td>502</td>\n",
       "    </tr>\n",
       "    <tr>\n",
       "      <th>1</th>\n",
       "      <td>Big Spenders</td>\n",
       "      <td>571</td>\n",
       "    </tr>\n",
       "    <tr>\n",
       "      <th>2</th>\n",
       "      <td>Almost Lost</td>\n",
       "      <td>47</td>\n",
       "    </tr>\n",
       "    <tr>\n",
       "      <th>3</th>\n",
       "      <td>Best Customer</td>\n",
       "      <td>40</td>\n",
       "    </tr>\n",
       "    <tr>\n",
       "      <th>4</th>\n",
       "      <td>Lost Customer</td>\n",
       "      <td>36</td>\n",
       "    </tr>\n",
       "    <tr>\n",
       "      <th>5</th>\n",
       "      <td>Lost Cheap Customers</td>\n",
       "      <td>216</td>\n",
       "    </tr>\n",
       "  </tbody>\n",
       "</table>\n",
       "</div>"
      ],
      "text/plain": [
       "                Segment   ID\n",
       "0       Loyal Customers  502\n",
       "1          Big Spenders  571\n",
       "2           Almost Lost   47\n",
       "3         Best Customer   40\n",
       "4         Lost Customer   36\n",
       "5  Lost Cheap Customers  216"
      ]
     },
     "execution_count": 48,
     "metadata": {},
     "output_type": "execute_result"
    }
   ],
   "source": [
    "sq2 = md.groupby('Segment')['ID'].nunique().reindex(index = sq1.Segment.values).reset_index()\n",
    "sq2"
   ]
  },
  {
   "cell_type": "code",
   "execution_count": 49,
   "metadata": {
    "scrolled": false
   },
   "outputs": [
    {
     "name": "stderr",
     "output_type": "stream",
     "text": [
      "c:\\users\\dltnq\\anaconda3\\lib\\site-packages\\seaborn\\_core.py:163: FutureWarning: elementwise comparison failed; returning scalar instead, but in the future will perform elementwise comparison\n",
      "  if palette in QUAL_PALETTES:\n"
     ]
    },
    {
     "data": {
      "image/png": "[encoded data removed]",
      "text/plain": [
       "<Figure size 720x576 with 1 Axes>"
      ]
     },
     "metadata": {
      "needs_background": "light"
     },
     "output_type": "display_data"
    }
   ],
   "source": [
    "colors_seg = matplotlib.cm.get_cmap('Set1')(np.arange(len(sq1)))\n",
    "\n",
    "plt.figure(figsize=(10,8))\n",
    "sns.scatterplot(x=\"구매금액\", \n",
    "                y='ID',\n",
    "                s=1000, alpha=0.5,\n",
    "                hue=\"Segment\",\n",
    "                data=sq1.merge(sq2, on = 'Segment'), palette = colors_seg)\n",
    "plt.xlabel(\"총 구매금액\")\n",
    "plt.ylabel(\"고객 수\")\n",
    "plt.grid(True)\n",
    "plt.show()"
   ]
  },
  {
   "cell_type": "markdown",
   "metadata": {},
   "source": [
    "**RFM 분석 결과**\n",
    "1. RFM 지수가 높으며 총구매금액이 높고, 고객 수도 많은 `Loyal Customers` & `Big Spenders` 주고객층으로 설정\n",
    "2. RFM 지수 낮으며 총구매금액이 낮고, 고객 수도 적은 `Almost Lost` & `Lost Customer` 이탈고객으로 설정"
   ]
  },
  {
   "cell_type": "code",
   "execution_count": 50,
   "metadata": {},
   "outputs": [
    {
     "data": {
      "text/html": [
       "<div>\n",
       "<style scoped>\n",
       "    .dataframe tbody tr th:only-of-type {\n",
       "        vertical-align: middle;\n",
       "    }\n",
       "\n",
       "    .dataframe tbody tr th {\n",
       "        vertical-align: top;\n",
       "    }\n",
       "\n",
       "    .dataframe thead th {\n",
       "        text-align: right;\n",
       "    }\n",
       "</style>\n",
       "<table border=\"1\" class=\"dataframe\">\n",
       "  <thead>\n",
       "    <tr style=\"text-align: right;\">\n",
       "      <th></th>\n",
       "      <th>Loyal Customers</th>\n",
       "      <th>Big Spenders</th>\n",
       "      <th>Almost Lost</th>\n",
       "      <th>Best Customer</th>\n",
       "      <th>Lost Customer</th>\n",
       "      <th>Lost Cheap Customers</th>\n",
       "    </tr>\n",
       "  </thead>\n",
       "  <tbody>\n",
       "    <tr>\n",
       "      <th>0</th>\n",
       "      <td>여성용의류-SPA</td>\n",
       "      <td>여성용의류-SPA</td>\n",
       "      <td>여성용의류-SPA</td>\n",
       "      <td>주방가전</td>\n",
       "      <td>스포츠용품/의류</td>\n",
       "      <td>여성용의류-SPA</td>\n",
       "    </tr>\n",
       "    <tr>\n",
       "      <th>1</th>\n",
       "      <td>주방가전</td>\n",
       "      <td>스포츠용품/의류</td>\n",
       "      <td>스포츠용품/의류</td>\n",
       "      <td>여성용의류-SPA</td>\n",
       "      <td>여성용의류-SPA</td>\n",
       "      <td>주방가전</td>\n",
       "    </tr>\n",
       "    <tr>\n",
       "      <th>2</th>\n",
       "      <td>스포츠용품/의류</td>\n",
       "      <td>주방가전</td>\n",
       "      <td>주방가전</td>\n",
       "      <td>생활가전</td>\n",
       "      <td>생활가전</td>\n",
       "      <td>스포츠용품/의류</td>\n",
       "    </tr>\n",
       "    <tr>\n",
       "      <th>3</th>\n",
       "      <td>생활가전</td>\n",
       "      <td>화장품</td>\n",
       "      <td>남성용의류-캐주얼</td>\n",
       "      <td>구두</td>\n",
       "      <td>여성용의류-정장류</td>\n",
       "      <td>화장품</td>\n",
       "    </tr>\n",
       "    <tr>\n",
       "      <th>4</th>\n",
       "      <td>화장품</td>\n",
       "      <td>여성용의류-정장류</td>\n",
       "      <td>구두</td>\n",
       "      <td>스포츠용품/의류</td>\n",
       "      <td>주방가전</td>\n",
       "      <td>생활가전</td>\n",
       "    </tr>\n",
       "  </tbody>\n",
       "</table>\n",
       "</div>"
      ],
      "text/plain": [
       "  Loyal Customers Big Spenders Almost Lost Best Customer Lost Customer  \\\n",
       "0       여성용의류-SPA    여성용의류-SPA   여성용의류-SPA          주방가전      스포츠용품/의류   \n",
       "1            주방가전     스포츠용품/의류    스포츠용품/의류     여성용의류-SPA     여성용의류-SPA   \n",
       "2        스포츠용품/의류         주방가전        주방가전          생활가전          생활가전   \n",
       "3            생활가전          화장품   남성용의류-캐주얼            구두     여성용의류-정장류   \n",
       "4             화장품    여성용의류-정장류          구두      스포츠용품/의류          주방가전   \n",
       "\n",
       "  Lost Cheap Customers  \n",
       "0            여성용의류-SPA  \n",
       "1                 주방가전  \n",
       "2             스포츠용품/의류  \n",
       "3                  화장품  \n",
       "4                 생활가전  "
      ]
     },
     "execution_count": 50,
     "metadata": {},
     "output_type": "execute_result"
    }
   ],
   "source": [
    "pd.DataFrame({customers:\n",
    "              md[md['Segment'] == customers].상품중분류명.value_counts().head(5).index for customers in sq1.Segment.unique()})"
   ]
  },
  {
   "cell_type": "markdown",
   "metadata": {},
   "source": [
    "<font color=gold>↓ [PPT page.10]</font>"
   ]
  },
  {
   "cell_type": "markdown",
   "metadata": {},
   "source": [
    "## 3-2. 의류잡화"
   ]
  },
  {
   "cell_type": "markdown",
   "metadata": {},
   "source": [
    "- 총 구매금액이 가장 높게 나타나는 `의류잡화`에 초점"
   ]
  },
  {
   "cell_type": "code",
   "execution_count": 51,
   "metadata": {},
   "outputs": [
    {
     "data": {
      "image/png": "[encoded data removed]",
      "text/plain": [
       "<Figure size 432x288 with 1 Axes>"
      ]
     },
     "metadata": {
      "needs_background": "light"
     },
     "output_type": "display_data"
    }
   ],
   "source": [
    "nofood.groupby('상품대분류명')['구매금액'].sum().sort_values(ascending = False).plot.bar(color = colors_items[1:])\n",
    "plt.xticks(rotation = 0)\n",
    "plt.show()"
   ]
  },
  {
   "cell_type": "markdown",
   "metadata": {},
   "source": [
    "<font color=gold>↓ [PPT page.11]</font>"
   ]
  },
  {
   "cell_type": "markdown",
   "metadata": {},
   "source": [
    "### 3-2-1. 주얼리"
   ]
  },
  {
   "cell_type": "markdown",
   "metadata": {},
   "source": [
    "- 의류잡화 중 금액대가 높은 `주얼리`에 대한 분석 진행"
   ]
  },
  {
   "cell_type": "code",
   "execution_count": 52,
   "metadata": {},
   "outputs": [
    {
     "data": {
      "image/png": "[encoded data removed]",
      "text/plain": [
       "<Figure size 432x288 with 1 Axes>"
      ]
     },
     "metadata": {
      "needs_background": "light"
     },
     "output_type": "display_data"
    }
   ],
   "source": [
    "nofood[nofood['상품대분류명'] == '의류잡화'].groupby('상품중분류명')['구매금액'].mean().sort_values(ascending = False).plot.barh(color = colors_items[1])\n",
    "plt.show()"
   ]
  },
  {
   "cell_type": "code",
   "execution_count": 53,
   "metadata": {},
   "outputs": [
    {
     "data": {
      "text/plain": [
       "11    0.032787\n",
       "12    0.049180\n",
       "13    0.106557\n",
       "14    0.245902\n",
       "15    0.073770\n",
       "16    0.204918\n",
       "17    0.057377\n",
       "18    0.106557\n",
       "19    0.057377\n",
       "20    0.065574\n",
       "Name: 전체, dtype: float64"
      ]
     },
     "execution_count": 53,
     "metadata": {},
     "output_type": "execute_result"
    }
   ],
   "source": [
    "# 해당 상품군 데이터 추출\n",
    "jewelry = nofood[nofood['상품중분류명'] == '주얼리']\n",
    "\n",
    "# 전체 구매시간별 구매 비율\n",
    "all_jewelry = jewelry['구매시간'].value_counts(normalize = True).sort_index().rename('전체')\n",
    "all_jewelry"
   ]
  },
  {
   "cell_type": "code",
   "execution_count": 54,
   "metadata": {},
   "outputs": [
    {
     "data": {
      "text/plain": [
       "11    0.0375\n",
       "12    0.0125\n",
       "13    0.0875\n",
       "14    0.3500\n",
       "15    0.0750\n",
       "16    0.2625\n",
       "17    0.0375\n",
       "18    0.0625\n",
       "19    0.0500\n",
       "20    0.0250\n",
       "Name: 평일, dtype: float64"
      ]
     },
     "execution_count": 54,
     "metadata": {},
     "output_type": "execute_result"
    }
   ],
   "source": [
    "# 평일 구매시간별 구매 비율\n",
    "weekday_jewelry = jewelry[jewelry['평일주말'] == '평일']['구매시간'].value_counts(normalize = True).sort_index().rename('평일')\n",
    "weekday_jewelry"
   ]
  },
  {
   "cell_type": "code",
   "execution_count": 55,
   "metadata": {},
   "outputs": [
    {
     "data": {
      "text/plain": [
       "11    0.023810\n",
       "12    0.119048\n",
       "13    0.142857\n",
       "14    0.047619\n",
       "15    0.071429\n",
       "16    0.095238\n",
       "17    0.095238\n",
       "18    0.190476\n",
       "19    0.071429\n",
       "20    0.142857\n",
       "Name: 주말, dtype: float64"
      ]
     },
     "execution_count": 55,
     "metadata": {},
     "output_type": "execute_result"
    }
   ],
   "source": [
    "# 주말 구매시간별 구매 비율\n",
    "weekend_jewelry = jewelry[jewelry['평일주말'] == '주말']['구매시간'].value_counts(normalize = True).sort_index().rename('주말')\n",
    "weekend_jewelry"
   ]
  },
  {
   "cell_type": "code",
   "execution_count": 56,
   "metadata": {},
   "outputs": [
    {
     "data": {
      "text/html": [
       "<div>\n",
       "<style scoped>\n",
       "    .dataframe tbody tr th:only-of-type {\n",
       "        vertical-align: middle;\n",
       "    }\n",
       "\n",
       "    .dataframe tbody tr th {\n",
       "        vertical-align: top;\n",
       "    }\n",
       "\n",
       "    .dataframe thead th {\n",
       "        text-align: right;\n",
       "    }\n",
       "</style>\n",
       "<table border=\"1\" class=\"dataframe\">\n",
       "  <thead>\n",
       "    <tr style=\"text-align: right;\">\n",
       "      <th></th>\n",
       "      <th>전체</th>\n",
       "      <th>평일</th>\n",
       "      <th>주말</th>\n",
       "    </tr>\n",
       "  </thead>\n",
       "  <tbody>\n",
       "    <tr>\n",
       "      <th>11</th>\n",
       "      <td>0.032787</td>\n",
       "      <td>0.0375</td>\n",
       "      <td>0.023810</td>\n",
       "    </tr>\n",
       "    <tr>\n",
       "      <th>12</th>\n",
       "      <td>0.049180</td>\n",
       "      <td>0.0125</td>\n",
       "      <td>0.119048</td>\n",
       "    </tr>\n",
       "    <tr>\n",
       "      <th>13</th>\n",
       "      <td>0.106557</td>\n",
       "      <td>0.0875</td>\n",
       "      <td>0.142857</td>\n",
       "    </tr>\n",
       "    <tr>\n",
       "      <th>14</th>\n",
       "      <td>0.245902</td>\n",
       "      <td>0.3500</td>\n",
       "      <td>0.047619</td>\n",
       "    </tr>\n",
       "    <tr>\n",
       "      <th>15</th>\n",
       "      <td>0.073770</td>\n",
       "      <td>0.0750</td>\n",
       "      <td>0.071429</td>\n",
       "    </tr>\n",
       "    <tr>\n",
       "      <th>16</th>\n",
       "      <td>0.204918</td>\n",
       "      <td>0.2625</td>\n",
       "      <td>0.095238</td>\n",
       "    </tr>\n",
       "    <tr>\n",
       "      <th>17</th>\n",
       "      <td>0.057377</td>\n",
       "      <td>0.0375</td>\n",
       "      <td>0.095238</td>\n",
       "    </tr>\n",
       "    <tr>\n",
       "      <th>18</th>\n",
       "      <td>0.106557</td>\n",
       "      <td>0.0625</td>\n",
       "      <td>0.190476</td>\n",
       "    </tr>\n",
       "    <tr>\n",
       "      <th>19</th>\n",
       "      <td>0.057377</td>\n",
       "      <td>0.0500</td>\n",
       "      <td>0.071429</td>\n",
       "    </tr>\n",
       "    <tr>\n",
       "      <th>20</th>\n",
       "      <td>0.065574</td>\n",
       "      <td>0.0250</td>\n",
       "      <td>0.142857</td>\n",
       "    </tr>\n",
       "  </tbody>\n",
       "</table>\n",
       "</div>"
      ],
      "text/plain": [
       "          전체      평일        주말\n",
       "11  0.032787  0.0375  0.023810\n",
       "12  0.049180  0.0125  0.119048\n",
       "13  0.106557  0.0875  0.142857\n",
       "14  0.245902  0.3500  0.047619\n",
       "15  0.073770  0.0750  0.071429\n",
       "16  0.204918  0.2625  0.095238\n",
       "17  0.057377  0.0375  0.095238\n",
       "18  0.106557  0.0625  0.190476\n",
       "19  0.057377  0.0500  0.071429\n",
       "20  0.065574  0.0250  0.142857"
      ]
     },
     "execution_count": 56,
     "metadata": {},
     "output_type": "execute_result"
    }
   ],
   "source": [
    "# 데이터 합치기\n",
    "time_jewerly = pd.concat([all_jewelry, weekday_jewelry, weekend_jewelry], axis = 1)\n",
    "time_jewerly"
   ]
  },
  {
   "cell_type": "code",
   "execution_count": 57,
   "metadata": {},
   "outputs": [
    {
     "data": {
      "image/png": "[encoded data removed]",
      "text/plain": [
       "<Figure size 432x288 with 2 Axes>"
      ]
     },
     "metadata": {
      "needs_background": "light"
     },
     "output_type": "display_data"
    }
   ],
   "source": [
    "sns.heatmap(time_jewerly, cmap='YlOrBr', linewidths=1, vmin=0, annot=True, annot_kws={'size':12})\n",
    "plt.title('주얼리 시간대별 구매 비율 비교', fontsize=13)\n",
    "plt.show()"
   ]
  },
  {
   "cell_type": "markdown",
   "metadata": {},
   "source": [
    "<font color=gold>↓ [PPT page.12]</font>"
   ]
  },
  {
   "cell_type": "markdown",
   "metadata": {},
   "source": [
    "### 3-2-2. 캐주얼"
   ]
  },
  {
   "cell_type": "markdown",
   "metadata": {},
   "source": [
    "**실버세대의 캐주얼에 대한 관심 증가**\n",
    "\n",
    "- 백진엽, '응사' '꽃보다할배'의 경제효과는 얼마?, new1, https://www.news1.kr/articles/1505129\n",
    "\n",
    "평균 연령 76세의 꽃할배 4인방의 파란만장 배낭여행기를 담은 '꽃보다 할배'는 `실버 세대가 즐길 수 있을만한 다양한 문화 공연 및 레저산업`이 활기를 띠게 되는 계기를 마련했다는 평가다. 아울러 젊은층이 즐겨찾는 `'이지캐주얼' 의류를 구매한 60대 이상 고객 매출도 동반상승, 실버 산업의 새로운 트렌드`를 이끌었다."
   ]
  },
  {
   "cell_type": "code",
   "execution_count": 58,
   "metadata": {
    "scrolled": false
   },
   "outputs": [
    {
     "data": {
      "image/png": "[encoded data removed]",
      "text/plain": [
       "<Figure size 720x432 with 4 Axes>"
      ]
     },
     "metadata": {
      "needs_background": "light"
     },
     "output_type": "display_data"
    }
   ],
   "source": [
    "casuals = ['여성용의류-캐주얼', '남성용의류-캐주얼']\n",
    "\n",
    "fig, axes = plt.subplots(1,2, figsize=(10,6), sharey=True)\n",
    "\n",
    "# 주얼리의 과정 반복\n",
    "for casual in casuals :\n",
    "    item = nofood[nofood['상품중분류명'] == casual]\n",
    "    all_item = item['구매시간'].value_counts(normalize = True).sort_index().rename('전체')\n",
    "    weekday_item = item[item['평일주말'] == '평일']['구매시간'].value_counts(normalize = True).sort_index().rename('평일')\n",
    "    weekend_item = item[item['평일주말'] == '주말']['구매시간'].value_counts(normalize = True).sort_index().rename('주말')\n",
    "    time_item = pd.concat([all_item, weekday_item, weekend_item], axis = 1)\n",
    "    sns.heatmap(time_item, cmap='YlOrBr', ax=axes[casuals.index(casual)], linewidths=1, vmin=0, annot=True, annot_kws={'size':12})\n",
    "    axes[casuals.index(casual)].set_title(str(casual)+' 시간대별 구매 비율 비교', fontsize=13)\n",
    "\n",
    "plt.show()"
   ]
  },
  {
   "cell_type": "markdown",
   "metadata": {},
   "source": [
    "<font color=gold>↓ [PPT page.14]</font>"
   ]
  },
  {
   "cell_type": "markdown",
   "metadata": {},
   "source": [
    "## 3-3. 가전제품"
   ]
  },
  {
   "cell_type": "markdown",
   "metadata": {},
   "source": [
    "- 다른 제품군과 다르게 계절별 구매수량 편차가 큰 `가전제품`에 대한 분석 진행"
   ]
  },
  {
   "cell_type": "code",
   "execution_count": 59,
   "metadata": {},
   "outputs": [
    {
     "data": {
      "image/png": "[encoded data removed]",
      "text/plain": [
       "<Figure size 720x576 with 1 Axes>"
      ]
     },
     "metadata": {
      "needs_background": "light"
     },
     "output_type": "display_data"
    }
   ],
   "source": [
    "fig, ax = plt.subplots(figsize=(10,8))\n",
    "\n",
    "for i in list(df.상품대분류명.value_counts().index[1:]):\n",
    "    nofood.query('상품대분류명==@i').구매계절\\\n",
    "    .value_counts()[['봄','여름','가을','겨울']].plot(label=i, marker='s', markersize=7, color = colors_items[list(df.상품대분류명.value_counts().index[1:]).index(i)+1])\n",
    "\n",
    "ax.set_xlabel('계절', size=15)\n",
    "ax.set_ylabel('구매수량', size=15)\n",
    "    \n",
    "plt.title('비식품 계절 별 상품대분류의 구매수량', size=20)\n",
    "plt.legend(bbox_to_anchor=(1,1))\n",
    "plt.show()"
   ]
  },
  {
   "cell_type": "code",
   "execution_count": 60,
   "metadata": {},
   "outputs": [
    {
     "data": {
      "text/plain": [
       "3.3013293943870017"
      ]
     },
     "execution_count": 60,
     "metadata": {},
     "output_type": "execute_result"
    }
   ],
   "source": [
    "# 가장 적은 봄과 가장 많은 가을 3.3배 차이\n",
    "\n",
    "nofood.query('상품대분류명==\"가전제품\"').구매계절\\\n",
    ".value_counts()[['봄','여름','가을','겨울']].max()/nofood.query('상품대분류명==\"가전제품\"').구매계절\\\n",
    ".value_counts()[['봄','여름','가을','겨울']].min()"
   ]
  },
  {
   "cell_type": "markdown",
   "metadata": {},
   "source": [
    "### 3-3-1. 결혼 시기와 연관\n",
    "- 혼수 관련 제품"
   ]
  },
  {
   "cell_type": "code",
   "execution_count": 61,
   "metadata": {},
   "outputs": [
    {
     "data": {
      "text/html": [
       "<div>\n",
       "<style scoped>\n",
       "    .dataframe tbody tr th:only-of-type {\n",
       "        vertical-align: middle;\n",
       "    }\n",
       "\n",
       "    .dataframe tbody tr th {\n",
       "        vertical-align: top;\n",
       "    }\n",
       "\n",
       "    .dataframe thead th {\n",
       "        text-align: right;\n",
       "    }\n",
       "</style>\n",
       "<table border=\"1\" class=\"dataframe\">\n",
       "  <thead>\n",
       "    <tr style=\"text-align: right;\">\n",
       "      <th></th>\n",
       "      <th>1월</th>\n",
       "      <th>2월</th>\n",
       "      <th>3월</th>\n",
       "      <th>4월</th>\n",
       "      <th>5월</th>\n",
       "      <th>6월</th>\n",
       "      <th>7월</th>\n",
       "      <th>8월</th>\n",
       "      <th>9월</th>\n",
       "      <th>10월</th>\n",
       "      <th>11월</th>\n",
       "      <th>12월</th>\n",
       "    </tr>\n",
       "    <tr>\n",
       "      <th>연도</th>\n",
       "      <th></th>\n",
       "      <th></th>\n",
       "      <th></th>\n",
       "      <th></th>\n",
       "      <th></th>\n",
       "      <th></th>\n",
       "      <th></th>\n",
       "      <th></th>\n",
       "      <th></th>\n",
       "      <th></th>\n",
       "      <th></th>\n",
       "      <th></th>\n",
       "    </tr>\n",
       "  </thead>\n",
       "  <tbody>\n",
       "    <tr>\n",
       "      <th>04~'14년 평균</th>\n",
       "      <td>27.7</td>\n",
       "      <td>24.1</td>\n",
       "      <td>26.8</td>\n",
       "      <td>25.4</td>\n",
       "      <td>29.5</td>\n",
       "      <td>27.0</td>\n",
       "      <td>24.0</td>\n",
       "      <td>24.3</td>\n",
       "      <td>19.4</td>\n",
       "      <td>25.3</td>\n",
       "      <td>29.7</td>\n",
       "      <td>39.1</td>\n",
       "    </tr>\n",
       "    <tr>\n",
       "      <th>2013년</th>\n",
       "      <td>28.8</td>\n",
       "      <td>24.1</td>\n",
       "      <td>23.6</td>\n",
       "      <td>24.4</td>\n",
       "      <td>30.8</td>\n",
       "      <td>26.2</td>\n",
       "      <td>27.3</td>\n",
       "      <td>25.6</td>\n",
       "      <td>19.2</td>\n",
       "      <td>27.1</td>\n",
       "      <td>28.4</td>\n",
       "      <td>37.3</td>\n",
       "    </tr>\n",
       "    <tr>\n",
       "      <th>2014년</th>\n",
       "      <td>26.9</td>\n",
       "      <td>25.0</td>\n",
       "      <td>25.0</td>\n",
       "      <td>23.8</td>\n",
       "      <td>28.3</td>\n",
       "      <td>24.8</td>\n",
       "      <td>25.0</td>\n",
       "      <td>22.3</td>\n",
       "      <td>19.3</td>\n",
       "      <td>27.1</td>\n",
       "      <td>23.6</td>\n",
       "      <td>34.3</td>\n",
       "    </tr>\n",
       "  </tbody>\n",
       "</table>\n",
       "</div>"
      ],
      "text/plain": [
       "              1월    2월    3월    4월    5월    6월    7월    8월    9월   10월   11월  \\\n",
       "연도                                                                             \n",
       "04~'14년 평균  27.7  24.1  26.8  25.4  29.5  27.0  24.0  24.3  19.4  25.3  29.7   \n",
       "2013년       28.8  24.1  23.6  24.4  30.8  26.2  27.3  25.6  19.2  27.1  28.4   \n",
       "2014년       26.9  25.0  25.0  23.8  28.3  24.8  25.0  22.3  19.3  27.1  23.6   \n",
       "\n",
       "             12월  \n",
       "연도                \n",
       "04~'14년 평균  39.1  \n",
       "2013년       37.3  \n",
       "2014년       34.3  "
      ]
     },
     "execution_count": 61,
     "metadata": {},
     "output_type": "execute_result"
    }
   ],
   "source": [
    "marriage = pd.read_excel('marriage.xlsx')\n",
    "marriage = marriage.set_index('연도')\n",
    "marriage"
   ]
  },
  {
   "cell_type": "code",
   "execution_count": 62,
   "metadata": {},
   "outputs": [
    {
     "data": {
      "text/html": [
       "<div>\n",
       "<style scoped>\n",
       "    .dataframe tbody tr th:only-of-type {\n",
       "        vertical-align: middle;\n",
       "    }\n",
       "\n",
       "    .dataframe tbody tr th {\n",
       "        vertical-align: top;\n",
       "    }\n",
       "\n",
       "    .dataframe thead th {\n",
       "        text-align: right;\n",
       "    }\n",
       "</style>\n",
       "<table border=\"1\" class=\"dataframe\">\n",
       "  <thead>\n",
       "    <tr style=\"text-align: right;\">\n",
       "      <th></th>\n",
       "      <th>1월</th>\n",
       "      <th>2월</th>\n",
       "      <th>3월</th>\n",
       "      <th>4월</th>\n",
       "      <th>5월</th>\n",
       "      <th>6월</th>\n",
       "      <th>7월</th>\n",
       "      <th>8월</th>\n",
       "      <th>9월</th>\n",
       "      <th>10월</th>\n",
       "      <th>11월</th>\n",
       "      <th>12월</th>\n",
       "      <th>봄</th>\n",
       "      <th>여름</th>\n",
       "      <th>가을</th>\n",
       "      <th>겨울</th>\n",
       "    </tr>\n",
       "    <tr>\n",
       "      <th>연도</th>\n",
       "      <th></th>\n",
       "      <th></th>\n",
       "      <th></th>\n",
       "      <th></th>\n",
       "      <th></th>\n",
       "      <th></th>\n",
       "      <th></th>\n",
       "      <th></th>\n",
       "      <th></th>\n",
       "      <th></th>\n",
       "      <th></th>\n",
       "      <th></th>\n",
       "      <th></th>\n",
       "      <th></th>\n",
       "      <th></th>\n",
       "      <th></th>\n",
       "    </tr>\n",
       "  </thead>\n",
       "  <tbody>\n",
       "    <tr>\n",
       "      <th>04~'14년 평균</th>\n",
       "      <td>27700.0</td>\n",
       "      <td>24100.0</td>\n",
       "      <td>26800.0</td>\n",
       "      <td>25400.0</td>\n",
       "      <td>29500.0</td>\n",
       "      <td>27000.0</td>\n",
       "      <td>24000.0</td>\n",
       "      <td>24300.0</td>\n",
       "      <td>19400.0</td>\n",
       "      <td>25300.0</td>\n",
       "      <td>29700.0</td>\n",
       "      <td>39100.0</td>\n",
       "      <td>81700.0</td>\n",
       "      <td>75300.0</td>\n",
       "      <td>74400.0</td>\n",
       "      <td>90900.0</td>\n",
       "    </tr>\n",
       "    <tr>\n",
       "      <th>2013년</th>\n",
       "      <td>28800.0</td>\n",
       "      <td>24100.0</td>\n",
       "      <td>23600.0</td>\n",
       "      <td>24400.0</td>\n",
       "      <td>30800.0</td>\n",
       "      <td>26200.0</td>\n",
       "      <td>27300.0</td>\n",
       "      <td>25600.0</td>\n",
       "      <td>19200.0</td>\n",
       "      <td>27100.0</td>\n",
       "      <td>28400.0</td>\n",
       "      <td>37300.0</td>\n",
       "      <td>78800.0</td>\n",
       "      <td>79100.0</td>\n",
       "      <td>74700.0</td>\n",
       "      <td>90200.0</td>\n",
       "    </tr>\n",
       "    <tr>\n",
       "      <th>2014년</th>\n",
       "      <td>26900.0</td>\n",
       "      <td>25000.0</td>\n",
       "      <td>25000.0</td>\n",
       "      <td>23800.0</td>\n",
       "      <td>28300.0</td>\n",
       "      <td>24800.0</td>\n",
       "      <td>25000.0</td>\n",
       "      <td>22300.0</td>\n",
       "      <td>19300.0</td>\n",
       "      <td>27100.0</td>\n",
       "      <td>23600.0</td>\n",
       "      <td>34300.0</td>\n",
       "      <td>77100.0</td>\n",
       "      <td>72100.0</td>\n",
       "      <td>70000.0</td>\n",
       "      <td>86200.0</td>\n",
       "    </tr>\n",
       "  </tbody>\n",
       "</table>\n",
       "</div>"
      ],
      "text/plain": [
       "                 1월       2월       3월       4월       5월       6월       7월  \\\n",
       "연도                                                                          \n",
       "04~'14년 평균  27700.0  24100.0  26800.0  25400.0  29500.0  27000.0  24000.0   \n",
       "2013년       28800.0  24100.0  23600.0  24400.0  30800.0  26200.0  27300.0   \n",
       "2014년       26900.0  25000.0  25000.0  23800.0  28300.0  24800.0  25000.0   \n",
       "\n",
       "                 8월       9월      10월      11월      12월        봄       여름  \\\n",
       "연도                                                                          \n",
       "04~'14년 평균  24300.0  19400.0  25300.0  29700.0  39100.0  81700.0  75300.0   \n",
       "2013년       25600.0  19200.0  27100.0  28400.0  37300.0  78800.0  79100.0   \n",
       "2014년       22300.0  19300.0  27100.0  23600.0  34300.0  77100.0  72100.0   \n",
       "\n",
       "                 가을       겨울  \n",
       "연도                            \n",
       "04~'14년 평균  74400.0  90900.0  \n",
       "2013년       74700.0  90200.0  \n",
       "2014년       70000.0  86200.0  "
      ]
     },
     "execution_count": 62,
     "metadata": {},
     "output_type": "execute_result"
    }
   ],
   "source": [
    "marriage = marriage.loc[:, '1월':'12월'].apply(lambda x : x*1000)\n",
    "marriage[['봄', '여름', '가을', '겨울']] = 0\n",
    "for i in marriage.columns[:-4] :\n",
    "    marriage[season(int(i[:-1]))] += marriage[i]\n",
    "marriage"
   ]
  },
  {
   "cell_type": "code",
   "execution_count": 63,
   "metadata": {},
   "outputs": [
    {
     "data": {
      "text/html": [
       "<div>\n",
       "<style scoped>\n",
       "    .dataframe tbody tr th:only-of-type {\n",
       "        vertical-align: middle;\n",
       "    }\n",
       "\n",
       "    .dataframe tbody tr th {\n",
       "        vertical-align: top;\n",
       "    }\n",
       "\n",
       "    .dataframe thead th {\n",
       "        text-align: right;\n",
       "    }\n",
       "</style>\n",
       "<table border=\"1\" class=\"dataframe\">\n",
       "  <thead>\n",
       "    <tr style=\"text-align: right;\">\n",
       "      <th></th>\n",
       "      <th>2014. 01</th>\n",
       "      <th>2014. 02</th>\n",
       "      <th>2014. 03</th>\n",
       "      <th>2014. 04</th>\n",
       "      <th>2014. 05</th>\n",
       "      <th>2014. 06</th>\n",
       "      <th>2014. 07</th>\n",
       "      <th>2014. 08</th>\n",
       "      <th>2014. 09</th>\n",
       "      <th>2014. 10</th>\n",
       "      <th>2014. 11</th>\n",
       "      <th>2014. 12</th>\n",
       "    </tr>\n",
       "    <tr>\n",
       "      <th>시군구별</th>\n",
       "      <th></th>\n",
       "      <th></th>\n",
       "      <th></th>\n",
       "      <th></th>\n",
       "      <th></th>\n",
       "      <th></th>\n",
       "      <th></th>\n",
       "      <th></th>\n",
       "      <th></th>\n",
       "      <th></th>\n",
       "      <th></th>\n",
       "      <th></th>\n",
       "    </tr>\n",
       "  </thead>\n",
       "  <tbody>\n",
       "    <tr>\n",
       "      <th>서울특별시</th>\n",
       "      <td>5478</td>\n",
       "      <td>5138</td>\n",
       "      <td>5313</td>\n",
       "      <td>4840</td>\n",
       "      <td>6288</td>\n",
       "      <td>5299</td>\n",
       "      <td>5330</td>\n",
       "      <td>4951</td>\n",
       "      <td>4106</td>\n",
       "      <td>5554</td>\n",
       "      <td>4995</td>\n",
       "      <td>7531</td>\n",
       "    </tr>\n",
       "    <tr>\n",
       "      <th>부산광역시</th>\n",
       "      <td>1777</td>\n",
       "      <td>1523</td>\n",
       "      <td>1409</td>\n",
       "      <td>1431</td>\n",
       "      <td>1767</td>\n",
       "      <td>1603</td>\n",
       "      <td>1631</td>\n",
       "      <td>1331</td>\n",
       "      <td>1198</td>\n",
       "      <td>1700</td>\n",
       "      <td>1480</td>\n",
       "      <td>2077</td>\n",
       "    </tr>\n",
       "    <tr>\n",
       "      <th>경기도</th>\n",
       "      <td>6427</td>\n",
       "      <td>5985</td>\n",
       "      <td>6093</td>\n",
       "      <td>5857</td>\n",
       "      <td>6831</td>\n",
       "      <td>6096</td>\n",
       "      <td>6202</td>\n",
       "      <td>5367</td>\n",
       "      <td>4628</td>\n",
       "      <td>6559</td>\n",
       "      <td>5828</td>\n",
       "      <td>8433</td>\n",
       "    </tr>\n",
       "  </tbody>\n",
       "</table>\n",
       "</div>"
      ],
      "text/plain": [
       "       2014. 01  2014. 02  2014. 03  2014. 04  2014. 05  2014. 06  2014. 07  \\\n",
       "시군구별                                                                          \n",
       "서울특별시      5478      5138      5313      4840      6288      5299      5330   \n",
       "부산광역시      1777      1523      1409      1431      1767      1603      1631   \n",
       "경기도        6427      5985      6093      5857      6831      6096      6202   \n",
       "\n",
       "       2014. 08  2014. 09  2014. 10  2014. 11  2014. 12  \n",
       "시군구별                                                     \n",
       "서울특별시      4951      4106      5554      4995      7531  \n",
       "부산광역시      1331      1198      1700      1480      2077  \n",
       "경기도        5367      4628      6559      5828      8433  "
      ]
     },
     "execution_count": 63,
     "metadata": {},
     "output_type": "execute_result"
    }
   ],
   "source": [
    "local_marriage = pd.read_csv('시도_시군구_월별_혼인_20210604161106.csv', encoding='cp949', engine='python')\n",
    "local_marriage = local_marriage.set_index('시군구별')\n",
    "local_marriage"
   ]
  },
  {
   "cell_type": "code",
   "execution_count": 64,
   "metadata": {},
   "outputs": [
    {
     "data": {
      "text/html": [
       "<div>\n",
       "<style scoped>\n",
       "    .dataframe tbody tr th:only-of-type {\n",
       "        vertical-align: middle;\n",
       "    }\n",
       "\n",
       "    .dataframe tbody tr th {\n",
       "        vertical-align: top;\n",
       "    }\n",
       "\n",
       "    .dataframe thead th {\n",
       "        text-align: right;\n",
       "    }\n",
       "</style>\n",
       "<table border=\"1\" class=\"dataframe\">\n",
       "  <thead>\n",
       "    <tr style=\"text-align: right;\">\n",
       "      <th></th>\n",
       "      <th>2014. 01</th>\n",
       "      <th>2014. 02</th>\n",
       "      <th>2014. 03</th>\n",
       "      <th>2014. 04</th>\n",
       "      <th>2014. 05</th>\n",
       "      <th>2014. 06</th>\n",
       "      <th>2014. 07</th>\n",
       "      <th>2014. 08</th>\n",
       "      <th>2014. 09</th>\n",
       "      <th>2014. 10</th>\n",
       "      <th>2014. 11</th>\n",
       "      <th>2014. 12</th>\n",
       "      <th>봄</th>\n",
       "      <th>여름</th>\n",
       "      <th>가을</th>\n",
       "      <th>겨울</th>\n",
       "    </tr>\n",
       "    <tr>\n",
       "      <th>시군구별</th>\n",
       "      <th></th>\n",
       "      <th></th>\n",
       "      <th></th>\n",
       "      <th></th>\n",
       "      <th></th>\n",
       "      <th></th>\n",
       "      <th></th>\n",
       "      <th></th>\n",
       "      <th></th>\n",
       "      <th></th>\n",
       "      <th></th>\n",
       "      <th></th>\n",
       "      <th></th>\n",
       "      <th></th>\n",
       "      <th></th>\n",
       "      <th></th>\n",
       "    </tr>\n",
       "  </thead>\n",
       "  <tbody>\n",
       "    <tr>\n",
       "      <th>서울특별시</th>\n",
       "      <td>5478</td>\n",
       "      <td>5138</td>\n",
       "      <td>5313</td>\n",
       "      <td>4840</td>\n",
       "      <td>6288</td>\n",
       "      <td>5299</td>\n",
       "      <td>5330</td>\n",
       "      <td>4951</td>\n",
       "      <td>4106</td>\n",
       "      <td>5554</td>\n",
       "      <td>4995</td>\n",
       "      <td>7531</td>\n",
       "      <td>16441</td>\n",
       "      <td>15580</td>\n",
       "      <td>14655</td>\n",
       "      <td>18147</td>\n",
       "    </tr>\n",
       "    <tr>\n",
       "      <th>부산광역시</th>\n",
       "      <td>1777</td>\n",
       "      <td>1523</td>\n",
       "      <td>1409</td>\n",
       "      <td>1431</td>\n",
       "      <td>1767</td>\n",
       "      <td>1603</td>\n",
       "      <td>1631</td>\n",
       "      <td>1331</td>\n",
       "      <td>1198</td>\n",
       "      <td>1700</td>\n",
       "      <td>1480</td>\n",
       "      <td>2077</td>\n",
       "      <td>4607</td>\n",
       "      <td>4565</td>\n",
       "      <td>4378</td>\n",
       "      <td>5377</td>\n",
       "    </tr>\n",
       "    <tr>\n",
       "      <th>경기도</th>\n",
       "      <td>6427</td>\n",
       "      <td>5985</td>\n",
       "      <td>6093</td>\n",
       "      <td>5857</td>\n",
       "      <td>6831</td>\n",
       "      <td>6096</td>\n",
       "      <td>6202</td>\n",
       "      <td>5367</td>\n",
       "      <td>4628</td>\n",
       "      <td>6559</td>\n",
       "      <td>5828</td>\n",
       "      <td>8433</td>\n",
       "      <td>18781</td>\n",
       "      <td>17665</td>\n",
       "      <td>17015</td>\n",
       "      <td>20845</td>\n",
       "    </tr>\n",
       "  </tbody>\n",
       "</table>\n",
       "</div>"
      ],
      "text/plain": [
       "       2014. 01  2014. 02  2014. 03  2014. 04  2014. 05  2014. 06  2014. 07  \\\n",
       "시군구별                                                                          \n",
       "서울특별시      5478      5138      5313      4840      6288      5299      5330   \n",
       "부산광역시      1777      1523      1409      1431      1767      1603      1631   \n",
       "경기도        6427      5985      6093      5857      6831      6096      6202   \n",
       "\n",
       "       2014. 08  2014. 09  2014. 10  2014. 11  2014. 12      봄     여름     가을  \\\n",
       "시군구별                                                                           \n",
       "서울특별시      4951      4106      5554      4995      7531  16441  15580  14655   \n",
       "부산광역시      1331      1198      1700      1480      2077   4607   4565   4378   \n",
       "경기도        5367      4628      6559      5828      8433  18781  17665  17015   \n",
       "\n",
       "          겨울  \n",
       "시군구별          \n",
       "서울특별시  18147  \n",
       "부산광역시   5377  \n",
       "경기도    20845  "
      ]
     },
     "execution_count": 64,
     "metadata": {},
     "output_type": "execute_result"
    }
   ],
   "source": [
    "local_marriage[['봄', '여름', '가을', '겨울']] = 0\n",
    "for i in local_marriage.columns[:-4] :\n",
    "    local_marriage[season(int(i[-2:]))] += local_marriage[i]\n",
    "local_marriage"
   ]
  },
  {
   "cell_type": "code",
   "execution_count": 65,
   "metadata": {},
   "outputs": [
    {
     "data": {
      "image/png": "[encoded data removed]",
      "text/plain": [
       "<Figure size 1440x360 with 2 Axes>"
      ]
     },
     "metadata": {
      "needs_background": "light"
     },
     "output_type": "display_data"
    }
   ],
   "source": [
    "fig, axes = plt.subplots(1,2, figsize=(20,5))\n",
    "\n",
    "xlabels = ['봄','여름','가을','겨울']\n",
    "\n",
    "marriage.iloc[0, -4:].T.plot(ax = axes[0], color='red', marker='o')\n",
    "axes[0].set_title('2004년~2014년 전국 계절 별 혼인건수', size = 20)\n",
    "\n",
    "local_marriage.iloc[:, -4:].T.plot.bar(ax = axes[1], color=['gold','darkblue','green'], stacked=True)\n",
    "axes[1].set_title('2014년 서울,부산,경기도의 계절 별 혼인건수', size = 20)\n",
    "axes[1].legend(bbox_to_anchor=(1,1))\n",
    "\n",
    "plt.show()"
   ]
  },
  {
   "cell_type": "markdown",
   "metadata": {},
   "source": [
    "**분석 결과**\n",
    "1. 가전제품 계절별 판매 비율을 볼 때, `가을 >겨울` > 여름 > 봄\n",
    "2. 전국과 데이터에 반영된 지역(서울, 부산, 경기)의 계절별 혼인 건수를 볼 때, `겨울 > 봄` > 여름 > 가을"
   ]
  },
  {
   "cell_type": "markdown",
   "metadata": {},
   "source": [
    "<font color=gold>↓ [PPT page.15]</font>"
   ]
  },
  {
   "cell_type": "markdown",
   "metadata": {},
   "source": [
    "### 3-3-2. 가을 & 주방가전\n",
    "- 계절 중 가장 많이 판매되는 `가을`에 초점\n",
    "- 특히, 가전제품 중 높은 판매 비율을 갖는 `주방가전`"
   ]
  },
  {
   "cell_type": "code",
   "execution_count": 66,
   "metadata": {},
   "outputs": [],
   "source": [
    "# 해당 상품군 데이터 추출\n",
    "ele = nofood.query(\"상품대분류명 == '가전제품'\")"
   ]
  },
  {
   "cell_type": "code",
   "execution_count": 67,
   "metadata": {},
   "outputs": [
    {
     "data": {
      "image/png": "[encoded data removed]",
      "text/plain": [
       "<Figure size 432x288 with 1 Axes>"
      ]
     },
     "metadata": {
      "needs_background": "light"
     },
     "output_type": "display_data"
    }
   ],
   "source": [
    "colors_season = matplotlib.cm.get_cmap('tab20c')(np.arange(4))\n",
    "\n",
    "pd.crosstab(ele.상품중분류명, ele.구매계절, \n",
    "            normalize=True, margins=True)[['봄', '여름', '가을', '겨울']].reindex(ele.상품중분류명.value_counts().index).plot.barh(stacked = True, color = colors_season)\n",
    "plt.title('가전제품 상품중분류 기준 계절별 판매비율')\n",
    "plt.show()"
   ]
  },
  {
   "cell_type": "code",
   "execution_count": 68,
   "metadata": {},
   "outputs": [
    {
     "data": {
      "image/png": "[encoded data removed]",
      "text/plain": [
       "<Figure size 1440x360 with 2 Axes>"
      ]
     },
     "metadata": {
      "needs_background": "light"
     },
     "output_type": "display_data"
    }
   ],
   "source": [
    "# 주방 가전 월별 판매 금액 비교\n",
    "month = [i for i in range(1,13)]\n",
    "\n",
    "colors_month = ['#304169', '#304169',\n",
    "                '#445C95', '#445C95', '#445C95',\n",
    "               '#627BB7', '#627BB7', '#627BB7',\n",
    "               '#8DA0CB', '#8DA0CB', '#8DA0CB', '#304169']\n",
    "\n",
    "fig, axes = plt.subplots(1,2, figsize=(20,5))\n",
    "\n",
    "ele.query(\"상품중분류명 == '주방가전'\").groupby('구매월')['구매금액'].sum().plot.bar(ax = axes[0], color = colors_month)\n",
    "axes[0].set_title('주방가전 월별 총 판매금액', size = 20)\n",
    "axes[0].set_xticklabels(month, rotation = 0)\n",
    "\n",
    "ele.query(\"상품중분류명 == '주방가전'\").groupby('구매월')['구매금액'].mean().plot.bar(ax = axes[1], color = colors_month)\n",
    "axes[1].set_title('주방가전 월별 건당 평균 판매금액', size = 20)\n",
    "axes[1].set_xticklabels(month, rotation = 0)\n",
    "\n",
    "plt.show()"
   ]
  },
  {
   "cell_type": "code",
   "execution_count": 69,
   "metadata": {},
   "outputs": [
    {
     "data": {
      "text/plain": [
       "array([4431000, 4431000, 3419000, 3308000, 3197000, 3019000, 3019000,\n",
       "       3002000, 2975000, 2735000], dtype=int64)"
      ]
     },
     "execution_count": 69,
     "metadata": {},
     "output_type": "execute_result"
    }
   ],
   "source": [
    "# 주방가전 11월 내역 중 금액 상위 10위\n",
    "ele.query(\"상품중분류명 == '주방가전' and 구매월 == 11\").sort_values(by = '구매금액', ascending = False)['구매금액'][:10].values"
   ]
  },
  {
   "cell_type": "markdown",
   "metadata": {},
   "source": [
    "**분석 결과**\n",
    "1. 매출이 좋은 가을 중 특히 가장 높은 매출을 보이는 `11월`\n",
    "2. 11월에 판매된 상품 중 주방가전의 금액을 나열해보았을 때, 가격대를 보아 냉장고와 같은 상품이 많이 팔렸음을 추정"
   ]
  }
 ],
 "metadata": {
  "kernelspec": {
   "display_name": "Python 3",
   "language": "python",
   "name": "python3"
  },
  "language_info": {
   "codemirror_mode": {
    "name": "ipython",
    "version": 3
   },
   "file_extension": ".py",
   "mimetype": "text/x-python",
   "name": "python",
   "nbconvert_exporter": "python",
   "pygments_lexer": "ipython3",
   "version": "3.7.6"
  }
 },
 "nbformat": 4,
 "nbformat_minor": 5
}
